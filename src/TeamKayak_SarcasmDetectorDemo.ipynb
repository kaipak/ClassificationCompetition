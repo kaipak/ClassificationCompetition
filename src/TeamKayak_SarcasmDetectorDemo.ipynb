{
  "nbformat": 4,
  "nbformat_minor": 0,
  "metadata": {
    "accelerator": "GPU",
    "colab": {
      "name": "TeamKayak-SarcasmDetectorDemo",
      "provenance": [],
      "collapsed_sections": [],
      "authorship_tag": "ABX9TyNbJTmNwd27ipm1PMRt+vHa",
      "include_colab_link": true
    },
    "kernelspec": {
      "display_name": "Python 3",
      "name": "python3"
    }
  },
  "cells": [
    {
      "cell_type": "markdown",
      "metadata": {
        "id": "view-in-github",
        "colab_type": "text"
      },
      "source": [
        "<a href=\"https://colab.research.google.com/github/kaipak/ClassificationCompetition/blob/main/src/TeamKayak_SarcasmDetectorDemo.ipynb\" target=\"_parent\"><img src=\"https://colab.research.google.com/assets/colab-badge.svg\" alt=\"Open In Colab\"/></a>"
      ]
    },
    {
      "cell_type": "markdown",
      "metadata": {
        "id": "jouY1Xs_9zK9"
      },
      "source": [
        ""
      ]
    },
    {
      "cell_type": "code",
      "metadata": {
        "colab": {
          "base_uri": "https://localhost:8080/"
        },
        "id": "LO8xZTlk7c7Y",
        "outputId": "85bd5b54-d4b2-4b93-a744-75455a2822cb"
      },
      "source": [
        "from google.colab import drive\n",
        "drive.mount('/content/drive', force_remount=True)\n",
        "#!git clone https://github.com/kaipak/ClassificationCompetition.git drive/MyDrive/dev/ClassificationCompetition\n",
        "!pip install transformers"
      ],
      "execution_count": 28,
      "outputs": [
        {
          "output_type": "stream",
          "text": [
            "Mounted at /content/drive\n",
            "Requirement already satisfied: transformers in /usr/local/lib/python3.6/dist-packages (4.0.1)\n",
            "Requirement already satisfied: packaging in /usr/local/lib/python3.6/dist-packages (from transformers) (20.7)\n",
            "Requirement already satisfied: sacremoses in /usr/local/lib/python3.6/dist-packages (from transformers) (0.0.43)\n",
            "Requirement already satisfied: filelock in /usr/local/lib/python3.6/dist-packages (from transformers) (3.0.12)\n",
            "Requirement already satisfied: regex!=2019.12.17 in /usr/local/lib/python3.6/dist-packages (from transformers) (2019.12.20)\n",
            "Requirement already satisfied: requests in /usr/local/lib/python3.6/dist-packages (from transformers) (2.23.0)\n",
            "Requirement already satisfied: tqdm>=4.27 in /usr/local/lib/python3.6/dist-packages (from transformers) (4.41.1)\n",
            "Requirement already satisfied: dataclasses; python_version < \"3.7\" in /usr/local/lib/python3.6/dist-packages (from transformers) (0.8)\n",
            "Requirement already satisfied: numpy in /usr/local/lib/python3.6/dist-packages (from transformers) (1.18.5)\n",
            "Requirement already satisfied: tokenizers==0.9.4 in /usr/local/lib/python3.6/dist-packages (from transformers) (0.9.4)\n",
            "Requirement already satisfied: pyparsing>=2.0.2 in /usr/local/lib/python3.6/dist-packages (from packaging->transformers) (2.4.7)\n",
            "Requirement already satisfied: click in /usr/local/lib/python3.6/dist-packages (from sacremoses->transformers) (7.1.2)\n",
            "Requirement already satisfied: joblib in /usr/local/lib/python3.6/dist-packages (from sacremoses->transformers) (0.17.0)\n",
            "Requirement already satisfied: six in /usr/local/lib/python3.6/dist-packages (from sacremoses->transformers) (1.15.0)\n",
            "Requirement already satisfied: urllib3!=1.25.0,!=1.25.1,<1.26,>=1.21.1 in /usr/local/lib/python3.6/dist-packages (from requests->transformers) (1.24.3)\n",
            "Requirement already satisfied: chardet<4,>=3.0.2 in /usr/local/lib/python3.6/dist-packages (from requests->transformers) (3.0.4)\n",
            "Requirement already satisfied: certifi>=2017.4.17 in /usr/local/lib/python3.6/dist-packages (from requests->transformers) (2020.12.5)\n",
            "Requirement already satisfied: idna<3,>=2.5 in /usr/local/lib/python3.6/dist-packages (from requests->transformers) (2.10)\n"
          ],
          "name": "stdout"
        }
      ]
    },
    {
      "cell_type": "code",
      "metadata": {
        "id": "b5BYl2Q0Kkpb",
        "colab": {
          "base_uri": "https://localhost:8080/"
        },
        "outputId": "d9004e8a-da6d-414a-9cc1-db6aa7304b12"
      },
      "source": [
        "%load_ext autoreload\n",
        "%autoreload 2\n",
        "%matplotlib inline\n",
        "%load_ext tensorboard"
      ],
      "execution_count": 7,
      "outputs": [
        {
          "output_type": "stream",
          "text": [
            "The autoreload extension is already loaded. To reload it, use:\n",
            "  %reload_ext autoreload\n",
            "The tensorboard extension is already loaded. To reload it, use:\n",
            "  %reload_ext tensorboard\n"
          ],
          "name": "stdout"
        }
      ]
    },
    {
      "cell_type": "code",
      "metadata": {
        "id": "0hN-abM__qUZ"
      },
      "source": [
        "import sys, os\n",
        "from pathlib import Path\n",
        "import random\n",
        "from pathlib import Path\n",
        "import pandas as pd\n",
        "import matplotlib.pyplot as plt\n",
        "import seaborn as sns\n",
        "\n",
        "sys.path.append('drive/My Drive/dev/sarcasm_detector/src')\n",
        "from model import SarcasmDetector\n",
        "from data_prep import DataPrep"
      ],
      "execution_count": 15,
      "outputs": []
    },
    {
      "cell_type": "code",
      "metadata": {
        "id": "WdPQ1BDOdbYJ"
      },
      "source": [
        "# Set Paths for Google Drive\n",
        "source_folder = '/content/drive/My Drive/Data'\n",
        "destination_folder = '/content/drive/My Drive/Model/Response'\n",
        "train_log_dir = '/content/drive/My Drive/logs/tensorboard/train/'"
      ],
      "execution_count": 16,
      "outputs": []
    },
    {
      "cell_type": "code",
      "metadata": {
        "colab": {
          "base_uri": "https://localhost:8080/"
        },
        "id": "0ZSfGa8Udwrd",
        "outputId": "74698d4d-6312-4b4f-8027-96d05cd2c721"
      },
      "source": [
        "# Prepare Data\n",
        "data_prepper = DataPrep(train_path=source_folder + '/train.jsonl',\n",
        "                       sub_path=source_folder + '/test.jsonl',\n",
        "                       response_only=False)\n",
        "data_prepper.train_test_split()\n",
        "data_prepper.write_data(datapath=source_folder)"
      ],
      "execution_count": 17,
      "outputs": [
        {
          "output_type": "stream",
          "text": [
            "0.2 test ratio results in 4000 training, 500 validation, and 500 test observations.\n"
          ],
          "name": "stdout"
        }
      ]
    },
    {
      "cell_type": "code",
      "metadata": {
        "colab": {
          "base_uri": "https://localhost:8080/",
          "height": 293
        },
        "id": "OBHPYXRoNMkc",
        "outputId": "58d2858a-d4ef-4540-b45a-bf1cdae0451c"
      },
      "source": [
        "data_prepper.df_train.head()"
      ],
      "execution_count": 29,
      "outputs": [
        {
          "output_type": "execute_result",
          "data": {
            "text/html": [
              "<div>\n",
              "<style scoped>\n",
              "    .dataframe tbody tr th:only-of-type {\n",
              "        vertical-align: middle;\n",
              "    }\n",
              "\n",
              "    .dataframe tbody tr th {\n",
              "        vertical-align: top;\n",
              "    }\n",
              "\n",
              "    .dataframe thead th {\n",
              "        text-align: right;\n",
              "    }\n",
              "</style>\n",
              "<table border=\"1\" class=\"dataframe\">\n",
              "  <thead>\n",
              "    <tr style=\"text-align: right;\">\n",
              "      <th></th>\n",
              "      <th>label</th>\n",
              "      <th>response</th>\n",
              "      <th>context</th>\n",
              "      <th>text</th>\n",
              "    </tr>\n",
              "  </thead>\n",
              "  <tbody>\n",
              "    <tr>\n",
              "      <th>1396</th>\n",
              "      <td>1</td>\n",
              "      <td>@USER @USER A supercar group called \" Tools &amp; ...</td>\n",
              "      <td>[Some good ideas but why are many of these tri...</td>\n",
              "      <td>@USER @USER A supercar group called \" Tools &amp; ...</td>\n",
              "    </tr>\n",
              "    <tr>\n",
              "      <th>4329</th>\n",
              "      <td>0</td>\n",
              "      <td>@USER @USER @USER Didn ’ t your fave do a Chri...</td>\n",
              "      <td>[xtina is not impressive she can ’ t write , h...</td>\n",
              "      <td>@USER @USER @USER Didn ’ t your fave do a Chri...</td>\n",
              "    </tr>\n",
              "    <tr>\n",
              "      <th>1711</th>\n",
              "      <td>1</td>\n",
              "      <td>@USER @USER @USER I see you missed the tutoria...</td>\n",
              "      <td>[Republicans vote to give police power to arre...</td>\n",
              "      <td>@USER @USER @USER I see you missed the tutoria...</td>\n",
              "    </tr>\n",
              "    <tr>\n",
              "      <th>2617</th>\n",
              "      <td>0</td>\n",
              "      <td>@USER @USER @USER Sure . It's Bernie's fault ....</td>\n",
              "      <td>[I think @USER bears a * LOT * of the responsi...</td>\n",
              "      <td>@USER @USER @USER Sure . It's Bernie's fault ....</td>\n",
              "    </tr>\n",
              "    <tr>\n",
              "      <th>4546</th>\n",
              "      <td>0</td>\n",
              "      <td>@USER @USER @USER Girl became his highest char...</td>\n",
              "      <td>[xtina is not impressive she can ’ t write , h...</td>\n",
              "      <td>@USER @USER @USER Girl became his highest char...</td>\n",
              "    </tr>\n",
              "  </tbody>\n",
              "</table>\n",
              "</div>"
            ],
            "text/plain": [
              "      label  ...                                               text\n",
              "1396      1  ...  @USER @USER A supercar group called \" Tools & ...\n",
              "4329      0  ...  @USER @USER @USER Didn ’ t your fave do a Chri...\n",
              "1711      1  ...  @USER @USER @USER I see you missed the tutoria...\n",
              "2617      0  ...  @USER @USER @USER Sure . It's Bernie's fault ....\n",
              "4546      0  ...  @USER @USER @USER Girl became his highest char...\n",
              "\n",
              "[5 rows x 4 columns]"
            ]
          },
          "metadata": {
            "tags": []
          },
          "execution_count": 29
        }
      ]
    },
    {
      "cell_type": "code",
      "metadata": {
        "colab": {
          "base_uri": "https://localhost:8080/",
          "height": 352
        },
        "id": "uPU3y08aJSP2",
        "outputId": "d2584e7f-6426-4ed5-c32f-df4bbfa06f72"
      },
      "source": [
        "df = pd.read_csv(f'{source_folder}/train.csv')\n",
        "sns.distplot(df['text'].str.count(\" \"))"
      ],
      "execution_count": 30,
      "outputs": [
        {
          "output_type": "stream",
          "text": [
            "/usr/local/lib/python3.6/dist-packages/seaborn/distributions.py:2551: FutureWarning: `distplot` is a deprecated function and will be removed in a future version. Please adapt your code to use either `displot` (a figure-level function with similar flexibility) or `histplot` (an axes-level function for histograms).\n",
            "  warnings.warn(msg, FutureWarning)\n"
          ],
          "name": "stderr"
        },
        {
          "output_type": "execute_result",
          "data": {
            "text/plain": [
              "<matplotlib.axes._subplots.AxesSubplot at 0x7fd8863a15f8>"
            ]
          },
          "metadata": {
            "tags": []
          },
          "execution_count": 30
        },
        {
          "output_type": "display_data",
          "data": {
            "image/png": "[encoded data removed]",
            "text/plain": [
              "<Figure size 432x288 with 1 Axes>"
            ]
          },
          "metadata": {
            "tags": [],
            "needs_background": "light"
          }
        }
      ]
    },
    {
      "cell_type": "code",
      "metadata": {
        "colab": {
          "base_uri": "https://localhost:8080/",
          "height": 293
        },
        "id": "hiGVpVwfEon6",
        "outputId": "3c0b016b-89ef-4b33-d714-3d97e20dc795"
      },
      "source": [
        "data_prepper.df_sub.head()"
      ],
      "execution_count": 20,
      "outputs": [
        {
          "output_type": "execute_result",
          "data": {
            "text/html": [
              "<div>\n",
              "<style scoped>\n",
              "    .dataframe tbody tr th:only-of-type {\n",
              "        vertical-align: middle;\n",
              "    }\n",
              "\n",
              "    .dataframe tbody tr th {\n",
              "        vertical-align: top;\n",
              "    }\n",
              "\n",
              "    .dataframe thead th {\n",
              "        text-align: right;\n",
              "    }\n",
              "</style>\n",
              "<table border=\"1\" class=\"dataframe\">\n",
              "  <thead>\n",
              "    <tr style=\"text-align: right;\">\n",
              "      <th></th>\n",
              "      <th>id</th>\n",
              "      <th>response</th>\n",
              "      <th>context</th>\n",
              "      <th>text</th>\n",
              "      <th>label</th>\n",
              "    </tr>\n",
              "  </thead>\n",
              "  <tbody>\n",
              "    <tr>\n",
              "      <th>0</th>\n",
              "      <td>twitter_1</td>\n",
              "      <td>@USER @USER @USER My 3 year old , that just fi...</td>\n",
              "      <td>[Well now that ’ s problematic AF &lt;URL&gt;, @USER...</td>\n",
              "      <td>@USER @USER @USER My 3 year old , that just fi...</td>\n",
              "      <td>1</td>\n",
              "    </tr>\n",
              "    <tr>\n",
              "      <th>1</th>\n",
              "      <td>twitter_2</td>\n",
              "      <td>@USER @USER How many verifiable lies has he to...</td>\n",
              "      <td>[Last week the Fake News said that a section o...</td>\n",
              "      <td>@USER @USER How many verifiable lies has he to...</td>\n",
              "      <td>1</td>\n",
              "    </tr>\n",
              "    <tr>\n",
              "      <th>2</th>\n",
              "      <td>twitter_3</td>\n",
              "      <td>@USER @USER @USER Maybe Docs just a scrub of a...</td>\n",
              "      <td>[@USER Let ’ s Aplaud Brett When he deserves i...</td>\n",
              "      <td>@USER @USER @USER Maybe Docs just a scrub of a...</td>\n",
              "      <td>1</td>\n",
              "    </tr>\n",
              "    <tr>\n",
              "      <th>3</th>\n",
              "      <td>twitter_4</td>\n",
              "      <td>@USER @USER is just a cover up for the real ha...</td>\n",
              "      <td>[Women generally hate this president . What's ...</td>\n",
              "      <td>@USER @USER is just a cover up for the real ha...</td>\n",
              "      <td>1</td>\n",
              "    </tr>\n",
              "    <tr>\n",
              "      <th>4</th>\n",
              "      <td>twitter_5</td>\n",
              "      <td>@USER @USER @USER The irony being that he even...</td>\n",
              "      <td>[Dear media Remoaners , you excitedly sharing ...</td>\n",
              "      <td>@USER @USER @USER The irony being that he even...</td>\n",
              "      <td>1</td>\n",
              "    </tr>\n",
              "  </tbody>\n",
              "</table>\n",
              "</div>"
            ],
            "text/plain": [
              "          id  ... label\n",
              "0  twitter_1  ...     1\n",
              "1  twitter_2  ...     1\n",
              "2  twitter_3  ...     1\n",
              "3  twitter_4  ...     1\n",
              "4  twitter_5  ...     1\n",
              "\n",
              "[5 rows x 5 columns]"
            ]
          },
          "metadata": {
            "tags": []
          },
          "execution_count": 20
        }
      ]
    },
    {
      "cell_type": "code",
      "metadata": {
        "colab": {
          "base_uri": "https://localhost:8080/",
          "height": 352
        },
        "id": "48nO1VdJJ3xL",
        "outputId": "c8df8782-3e0e-40cd-abca-0eb1699fdc92"
      },
      "source": [
        "df = pd.read_csv(f'{source_folder}/sub.csv')\n",
        "sns.distplot(data_prepper.df['text'].str.count(\" \"))"
      ],
      "execution_count": 31,
      "outputs": [
        {
          "output_type": "stream",
          "text": [
            "/usr/local/lib/python3.6/dist-packages/seaborn/distributions.py:2551: FutureWarning: `distplot` is a deprecated function and will be removed in a future version. Please adapt your code to use either `displot` (a figure-level function with similar flexibility) or `histplot` (an axes-level function for histograms).\n",
            "  warnings.warn(msg, FutureWarning)\n"
          ],
          "name": "stderr"
        },
        {
          "output_type": "execute_result",
          "data": {
            "text/plain": [
              "<matplotlib.axes._subplots.AxesSubplot at 0x7fd8860e5cc0>"
            ]
          },
          "metadata": {
            "tags": []
          },
          "execution_count": 31
        },
        {
          "output_type": "display_data",
          "data": {
            "image/png": "[encoded data removed]",
            "text/plain": [
              "<Figure size 432x288 with 1 Axes>"
            ]
          },
          "metadata": {
            "tags": [],
            "needs_background": "light"
          }
        }
      ]
    },
    {
      "cell_type": "markdown",
      "metadata": {
        "id": "Cp69zlizRsl-"
      },
      "source": [
        "# Demo from best saved Model\n",
        "\n",
        "*   $lr=5e-7$\n",
        "*   $\\textit{epochs}=30$\n",
        "* `batch_size`=8\n",
        "* `max_seq_len`=128\n",
        "* response + contex\n",
        "\n"
      ]
    },
    {
      "cell_type": "code",
      "metadata": {
        "id": "ueAh_R0WOcj4"
      },
      "source": [
        "input_path = 'drive/MyDrive/Data'\n",
        "output_path = '/content/drive/My Drive/Model/Response'\n",
        "train_log_dir = 'drive/MyDrive/Output/logs/tensorboard/train'\n",
        "best_model_path = 'drive/MyDrive/Model/Response/best_model.pt'\n",
        "best_metrics_path = Path('drive/MyDrive/Model/Response/lr_5e-07_epochs_30_metrics.pt')"
      ],
      "execution_count": 32,
      "outputs": []
    },
    {
      "cell_type": "code",
      "metadata": {
        "colab": {
          "base_uri": "https://localhost:8080/"
        },
        "id": "gdCw0EbzTQRf",
        "outputId": "f496b8b3-9925-4160-e13c-67b682465243"
      },
      "source": [
        "best_model = SarcasmDetector(tokenizer_model='bert-base-uncased',\n",
        "                             model_options_name='bert-base-uncased',\n",
        "                             tokenizer_do_lc=False,\n",
        "                             input_dir=input_path,\n",
        "                             output_dir=output_path,\n",
        "                             train_log_dir=train_log_dir)\n",
        "best_model.tokenize_data('train.csv', 'validate.csv', 'test.csv', batch_size=8, max_seq_len=128)"
      ],
      "execution_count": 33,
      "outputs": [
        {
          "output_type": "stream",
          "text": [
            "There is/are 1 GPU(s) available.\n",
            "GPU Tesla V100-SXM2-16GB will be used.\n"
          ],
          "name": "stdout"
        },
        {
          "output_type": "stream",
          "text": [
            "Some weights of the model checkpoint at bert-base-uncased were not used when initializing BertForSequenceClassification: ['cls.predictions.bias', 'cls.predictions.transform.dense.weight', 'cls.predictions.transform.dense.bias', 'cls.predictions.decoder.weight', 'cls.seq_relationship.weight', 'cls.seq_relationship.bias', 'cls.predictions.transform.LayerNorm.weight', 'cls.predictions.transform.LayerNorm.bias']\n",
            "- This IS expected if you are initializing BertForSequenceClassification from the checkpoint of a model trained on another task or with another architecture (e.g. initializing a BertForSequenceClassification model from a BertForPreTraining model).\n",
            "- This IS NOT expected if you are initializing BertForSequenceClassification from the checkpoint of a model that you expect to be exactly identical (initializing a BertForSequenceClassification model from a BertForSequenceClassification model).\n",
            "Some weights of BertForSequenceClassification were not initialized from the model checkpoint at bert-base-uncased and are newly initialized: ['classifier.weight', 'classifier.bias']\n",
            "You should probably TRAIN this model on a down-stream task to be able to use it for predictions and inference.\n"
          ],
          "name": "stderr"
        },
        {
          "output_type": "stream",
          "text": [
            "Created train, validation, and test datasets with max_seq_len=128\n",
            "Created iterators with batch_size=8\n"
          ],
          "name": "stdout"
        }
      ]
    },
    {
      "cell_type": "code",
      "metadata": {
        "colab": {
          "base_uri": "https://localhost:8080/",
          "height": 487
        },
        "id": "wBLD1RFdcMxu",
        "outputId": "11b14635-d45b-42d5-946f-acc1d5ab9ca1"
      },
      "source": [
        "best_model.evaluate(model_name='best_')"
      ],
      "execution_count": 34,
      "outputs": [
        {
          "output_type": "stream",
          "text": [
            "Model loaded from <== /content/drive/My Drive/Model/Response/best_model.pt\n",
            "Classification Report:\n",
            "              precision    recall  f1-score   support\n",
            "\n",
            "           1     0.7645    0.9032    0.8281       248\n",
            "           0     0.8841    0.7262    0.7974       252\n",
            "\n",
            "    accuracy                         0.8140       500\n",
            "   macro avg     0.8243    0.8147    0.8127       500\n",
            "weighted avg     0.8248    0.8140    0.8126       500\n",
            "\n"
          ],
          "name": "stdout"
        },
        {
          "output_type": "display_data",
          "data": {
            "image/png": "[encoded data removed]",
            "text/plain": [
              "<Figure size 432x288 with 2 Axes>"
            ]
          },
          "metadata": {
            "tags": [],
            "needs_background": "light"
          }
        }
      ]
    },
    {
      "cell_type": "code",
      "metadata": {
        "colab": {
          "base_uri": "https://localhost:8080/"
        },
        "id": "EIh7oBKdVSuV",
        "outputId": "321a733f-e976-4508-af0e-e46e2ed50c3b"
      },
      "source": [
        "df_sub = best_model.predict(model_name='best_', filepath='drive/MyDrive/Output/sub_kd121320.csv')\n",
        "df_sub.groupby('label').size()"
      ],
      "execution_count": 35,
      "outputs": [
        {
          "output_type": "stream",
          "text": [
            "Model loaded from <== /content/drive/My Drive/Model/Response/best_model.pt\n"
          ],
          "name": "stdout"
        },
        {
          "output_type": "execute_result",
          "data": {
            "text/plain": [
              "label\n",
              "NOT_SARCASM     665\n",
              "SARCASM        1135\n",
              "dtype: int64"
            ]
          },
          "metadata": {
            "tags": []
          },
          "execution_count": 35
        }
      ]
    },
    {
      "cell_type": "code",
      "metadata": {
        "id": "w6JdKcs3C7X2"
      },
      "source": [
        "df_sub.to_csv()"
      ],
      "execution_count": null,
      "outputs": []
    }
  ]
}