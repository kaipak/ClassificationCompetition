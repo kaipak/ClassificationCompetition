{
 "cells": [
  {
   "cell_type": "code",
   "execution_count": 1,
   "metadata": {},
   "outputs": [],
   "source": [
    "import sys\n",
    "import os\n",
    "import random\n",
    "from pathlib import Path\n",
    "import pandas as pd\n",
    "import matplotlib.pyplot as plt\n",
    "import seaborn as sns\n",
    "from sklearn.model_selection import train_test_split\n",
    "from sklearn.metrics import accuracy_score, classification_report, confusion_matrix\n",
    "import torch\n",
    "from torchtext.data import Field, TabularDataset, BucketIterator, Iterator\n",
    "import torch.nn as nn\n",
    "from transformers import BertTokenizer, BertForSequenceClassification\n",
    "import torch.optim as optim"
   ]
  },
  {
   "cell_type": "code",
   "execution_count": 2,
   "metadata": {},
   "outputs": [],
   "source": [
    "# Function to Preprocess Data\n",
    "\n",
    "TRAIN_DATA = '../data/train.jsonl'\n",
    "TEST_DATA = '../data/test.jsonl'\n",
    "INPUT_DIR = Path('../data')\n",
    "OUTPUT_DIR = Path('../data/output/')\n",
    "\n",
    "def PreprocessData(method='response only'):\n",
    "  '''\n",
    "  The method argument can take these possible values:\n",
    "    'response only' = only use response for fitting model\n",
    "    'context only' = only use context for fitting model\n",
    "    'response + context' = concatenate response to context\n",
    "    'context + response' = concatenate context to response\n",
    "  '''\n",
    "\n",
    "  # Read In Train\n",
    "  df = pd.read_json(INPUT_DIR / 'train.jsonl', lines=True, encoding = sys.getdefaultencoding())\n",
    "\n",
    "  # Read In Data For Submission\n",
    "  df_sub = pd.read_json(INPUT_DIR / 'test.jsonl', lines=True, encoding = sys.getdefaultencoding())\n",
    "\n",
    "  # Convert Lables to Integers\n",
    "  df['label'] = (df['label'] == 'SARCASM').astype('int')\n",
    "\n",
    "  # Prepare text Column Based on Method\n",
    "  if method == 'response only':\n",
    "    # Training\n",
    "    df['text'] = df['response']\n",
    "    # Submission\n",
    "    df_sub['text'] = df_sub['response']\n",
    "  \n",
    "  if method == 'context only':\n",
    "    # Training - Concatenate All List Strings in Context Column\n",
    "    df['text'] = df['context'].str.join(\"\") \n",
    "    # Submission - Concatenate All List Strings in Context Column\n",
    "    df_sub['text'] = df_sub['context'].str.join(\"\") \n",
    "\n",
    "  if method == 'response + context':\n",
    "    # Training - Concatenate All List Strings in Context Column\n",
    "    df['context'] = df['context'].str.join(\"\")\n",
    "    # Submission - Concatenate All List Strings in Context Column\n",
    "    df_sub['context'] = df_sub['context'].str.join(\"\")\n",
    "\n",
    "    # Training - Concatenate Respons and Context\n",
    "    df['text'] = df['response'] + df['context']\n",
    "    # Submission - Concatenate Respons and Context\n",
    "    df_sub['text'] = df_sub['response'] + df_sub['context']\n",
    "\n",
    "  if method == 'context + response':\n",
    "    # Training - Concatenate All List Strings in Context Column\n",
    "    df['context'] = df['context'].str.join(\"\")\n",
    "    # Submission - Concatenate All List Strings in Context Column\n",
    "    df_sub['context'] = df_sub['context'].str.join(\"\")\n",
    "\n",
    "    # Training - Concatenate Respons and Context\n",
    "    df['text'] = df['context'] + df['response'] \n",
    "     # Submission - Concatenate Respons and Context\n",
    "    df_sub['text'] = df_sub['context'] + df_sub['response'] \n",
    "    \n",
    "\n",
    "  # Add Bunk Label For Submission\n",
    "  df_sub['id'] = 1\n",
    "  df_sub = df_sub.rename(columns={\"id\": \"label\"})\n",
    "\n",
    "  # Create Dataframes with Only Label and Text Columns\n",
    "  df_processed = df[['label','text']]\n",
    "  df_sub_processed = df_sub[['label','text']]\n",
    "\n",
    "  # Print Dataframe\n",
    "  print(df_processed.head())\n",
    "\n",
    "  # Split into Train and Validate\n",
    "  df_train, df_validate = train_test_split(df, test_size=0.2, random_state=42)\n",
    "\n",
    "  # Split into Validate and Test\n",
    "  df_validate, df_test = train_test_split(df_validate, test_size=0.5, random_state=42)\n",
    "\n",
    "  # Write Train as CSV\n",
    "  df_train.to_csv(OUTPUT_DIR / 'train.csv', index=False, encoding = sys.getdefaultencoding())  \n",
    "\n",
    "  # Write Validate as CSV\n",
    "  df_validate.to_csv(OUTPUT_DIR / 'validate.csv', index=False, encoding = sys.getdefaultencoding())\n",
    "\n",
    "  # Write Test as CSV\n",
    "  df_test.to_csv(OUTPUT_DIR / 'test.csv', index=False, encoding = sys.getdefaultencoding())\n",
    "\n",
    "  # Write Submission as CSV\n",
    "  df_sub.to_csv(OUTPUT_DIR / 'sub.csv', index=False, encoding = sys.getdefaultencoding())"
   ]
  },
  {
   "cell_type": "code",
   "execution_count": 3,
   "metadata": {},
   "outputs": [
    {
     "name": "stdout",
     "output_type": "stream",
     "text": [
      "   label                                               text\n",
      "0      1  @USER @USER @USER I don't get this .. obviousl...\n",
      "1      1  @USER @USER trying to protest about . Talking ...\n",
      "2      1  @USER @USER @USER He makes an insane about of ...\n",
      "3      1  @USER @USER Meanwhile Trump won't even release...\n",
      "4      1  @USER @USER Pretty Sure the Anti-Lincoln Crowd...\n"
     ]
    }
   ],
   "source": [
    "# Preprocess Data\n",
    "PreprocessData(method='response only')"
   ]
  },
  {
   "cell_type": "code",
   "execution_count": 4,
   "metadata": {},
   "outputs": [
    {
     "name": "stdout",
     "output_type": "stream",
     "text": [
      "cuda:0\n"
     ]
    }
   ],
   "source": [
    "device = torch.device('cuda:0' if torch.cuda.is_available() else 'cpu')\n",
    "print(device)"
   ]
  },
  {
   "cell_type": "code",
   "execution_count": 5,
   "metadata": {},
   "outputs": [
    {
     "data": {
      "text/plain": [
       "True"
      ]
     },
     "execution_count": 5,
     "metadata": {},
     "output_type": "execute_result"
    }
   ],
   "source": [
    "import torch \n",
    "torch.cuda.is_available()"
   ]
  },
  {
   "cell_type": "code",
   "execution_count": 6,
   "metadata": {},
   "outputs": [],
   "source": [
    "#tokenizer = BertTokenizer.from_pretrained('bert-base-uncased')\n",
    "tokenizer = BertTokenizer.from_pretrained('bert-base-cased')"
   ]
  },
  {
   "cell_type": "code",
   "execution_count": 12,
   "metadata": {},
   "outputs": [],
   "source": [
    "# Model parameter\n",
    "BATCH_SIZE = 16\n",
    "MAX_SEQ_LEN = 128\n",
    "PAD_INDEX = tokenizer.convert_tokens_to_ids(tokenizer.pad_token)\n",
    "UNK_INDEX = tokenizer.convert_tokens_to_ids(tokenizer.unk_token)\n",
    "\n",
    "# Fields\n",
    "label_field = Field(sequential=False, use_vocab=False, batch_first=True, dtype=torch.float)\n",
    "text_field = Field(use_vocab=False, tokenize=tokenizer.encode, lower=False, \n",
    "                   include_lengths=False, batch_first=True, fix_length=MAX_SEQ_LEN, \n",
    "                   pad_token=PAD_INDEX, unk_token=UNK_INDEX)\n",
    "#fields = [('context', text_field), ('label', label_field), ('response', text_field)]\n",
    "fields = [('label', label_field), ('text', text_field)]\n",
    "\n",
    "# TabularDataset\n",
    "train, valid, test = TabularDataset.splits(path=OUTPUT_DIR, \n",
    "                                           train='train.csv', \n",
    "                                           validation='validate.csv', \n",
    "                                           test='test.csv', \n",
    "                                           format='CSV', fields=fields, skip_header=True)\n",
    "\n",
    "# Iterators\n",
    "train_iter = BucketIterator(train, batch_size=BATCH_SIZE, sort_key=lambda x: len(x.text), \n",
    "                            device=device, train=True, sort=True, sort_within_batch=True)\n",
    "valid_iter = BucketIterator(valid, batch_size=BATCH_SIZE, sort_key=lambda x: len(x.text), \n",
    "                            device=device, train=True, sort=True, sort_within_batch=True)\n",
    "test_iter = Iterator(test, batch_size=BATCH_SIZE, device=device, train=False, shuffle=False, sort=False)"
   ]
  },
  {
   "cell_type": "code",
   "execution_count": 13,
   "metadata": {},
   "outputs": [],
   "source": [
    "class BERT(nn.Module):\n",
    "\n",
    "    def __init__(self):\n",
    "        super(BERT, self).__init__()\n",
    "\n",
    "        #options_name = \"bert-base-uncased\"\n",
    "        options_name = \"bert-base-cased\"\n",
    "        self.encoder = BertForSequenceClassification.from_pretrained(options_name)\n",
    "\n",
    "    def forward(self, text, label):\n",
    "        loss, text_fea = self.encoder(text, labels=label)[:2]\n",
    "\n",
    "        return loss, text_fea"
   ]
  },
  {
   "cell_type": "code",
   "execution_count": 14,
   "metadata": {},
   "outputs": [],
   "source": [
    "# Save and Load Functions\n",
    "def save_checkpoint(save_path, model, valid_loss):\n",
    "\n",
    "    if save_path == None:\n",
    "        return\n",
    "    \n",
    "    state_dict = {'model_state_dict': model.state_dict(),\n",
    "                  'valid_loss': valid_loss}\n",
    "    \n",
    "    torch.save(state_dict, save_path)\n",
    "    print(f'Model saved to ==> {save_path}')\n",
    "\n",
    "def load_checkpoint(load_path, model):\n",
    "    \n",
    "    if load_path==None:\n",
    "        return\n",
    "    \n",
    "    state_dict = torch.load(load_path, map_location=device)\n",
    "    print(f'Model loaded from <== {load_path}')\n",
    "    \n",
    "    model.load_state_dict(state_dict['model_state_dict'])\n",
    "    return state_dict['valid_loss']\n",
    "\n",
    "\n",
    "def save_metrics(save_path, train_loss_list, valid_loss_list, global_steps_list):\n",
    "\n",
    "    if save_path == None:\n",
    "        return\n",
    "    \n",
    "    state_dict = {'train_loss_list': train_loss_list,\n",
    "                  'valid_loss_list': valid_loss_list,\n",
    "                  'global_steps_list': global_steps_list}\n",
    "    \n",
    "    torch.save(state_dict, save_path)\n",
    "    print(f'Model saved to ==> {save_path}')\n",
    "\n",
    "\n",
    "def load_metrics(load_path):\n",
    "\n",
    "    if load_path==None:\n",
    "        return\n",
    "    \n",
    "    state_dict = torch.load(load_path, map_location=device)\n",
    "    print(f'Model loaded from <== {load_path}')\n",
    "    \n",
    "    return state_dict['train_loss_list'], state_dict['valid_loss_list'], state_dict['global_steps_list']"
   ]
  },
  {
   "cell_type": "code",
   "execution_count": 15,
   "metadata": {},
   "outputs": [],
   "source": [
    "# Training Function\n",
    "\n",
    "def train(model,\n",
    "          optimizer,\n",
    "          criterion = nn.BCELoss(),\n",
    "          train_loader = train_iter,\n",
    "          valid_loader = valid_iter,\n",
    "          num_epochs = 5,\n",
    "          eval_every = len(train_iter) // 2,\n",
    "          file_path = OUTPUT_DIR,\n",
    "          best_valid_loss = float(\"Inf\")):\n",
    "    \n",
    "    # initialize running values\n",
    "    running_loss = 0.0\n",
    "    valid_running_loss = 0.0\n",
    "    global_step = 0\n",
    "    train_loss_list = []\n",
    "    valid_loss_list = []\n",
    "    global_steps_list = []\n",
    "\n",
    "    # training loop\n",
    "    model.train()\n",
    "    for epoch in range(num_epochs):\n",
    "        for (label, text), _ in train_loader:\n",
    "            label = label.type(torch.LongTensor)           \n",
    "            label = label.to(device)\n",
    "            text = text.type(torch.LongTensor)  \n",
    "            text = text.to(device)\n",
    "            output = model(text, label)\n",
    "            loss, _ = output\n",
    "\n",
    "            optimizer.zero_grad()\n",
    "            loss.backward()\n",
    "            optimizer.step()\n",
    "\n",
    "            # update running values\n",
    "            running_loss += loss.item()\n",
    "            global_step += 1\n",
    "\n",
    "            # evaluation step\n",
    "            if global_step % eval_every == 0:\n",
    "                model.eval()\n",
    "                with torch.no_grad():                    \n",
    "\n",
    "                    # validation loop\n",
    "                    for (label, text), _ in valid_loader:\n",
    "                        \n",
    "                        label = label.type(torch.LongTensor)           \n",
    "                        label = label.to(device)\n",
    "                        text = text.type(torch.LongTensor)  \n",
    "                        text = text.to(device)\n",
    "                        output = model(text, label)\n",
    "                        loss, _ = output\n",
    "                        \n",
    "                        valid_running_loss += loss.item()\n",
    "\n",
    "                # evaluation\n",
    "                average_train_loss = running_loss / eval_every\n",
    "                average_valid_loss = valid_running_loss / len(valid_loader)\n",
    "                train_loss_list.append(average_train_loss)\n",
    "                valid_loss_list.append(average_valid_loss)\n",
    "                global_steps_list.append(global_step)\n",
    "\n",
    "                # resetting running values\n",
    "                running_loss = 0.0                \n",
    "                valid_running_loss = 0.0\n",
    "                model.train()\n",
    "\n",
    "                # print progress\n",
    "                print('Epoch [{}/{}], Step [{}/{}], Train Loss: {:.4f}, Valid Loss: {:.4f}'\n",
    "                      .format(epoch+1, num_epochs, global_step, num_epochs*len(train_loader),\n",
    "                              average_train_loss, average_valid_loss))\n",
    "                \n",
    "                # checkpoint\n",
    "                if best_valid_loss > average_valid_loss:\n",
    "                    best_valid_loss = average_valid_loss\n",
    "                    save_checkpoint(file_path / 'model.pt', model, best_valid_loss)\n",
    "                    save_metrics(file_path / 'metrics.pt', train_loss_list, valid_loss_list, global_steps_list)\n",
    "    \n",
    "    save_metrics(file_path / 'metrics.pt', train_loss_list, valid_loss_list, global_steps_list)\n",
    "    print('Finished Training!')"
   ]
  },
  {
   "cell_type": "code",
   "execution_count": 21,
   "metadata": {},
   "outputs": [
    {
     "name": "stderr",
     "output_type": "stream",
     "text": [
      "Some weights of the model checkpoint at bert-base-cased were not used when initializing BertForSequenceClassification: ['cls.predictions.bias', 'cls.predictions.transform.dense.weight', 'cls.predictions.transform.dense.bias', 'cls.predictions.decoder.weight', 'cls.seq_relationship.weight', 'cls.seq_relationship.bias', 'cls.predictions.transform.LayerNorm.weight', 'cls.predictions.transform.LayerNorm.bias']\n",
      "- This IS expected if you are initializing BertForSequenceClassification from the checkpoint of a model trained on another task or with another architecture (e.g. initializing a BertForSequenceClassification model from a BertForPreTraining model).\n",
      "- This IS NOT expected if you are initializing BertForSequenceClassification from the checkpoint of a model that you expect to be exactly identical (initializing a BertForSequenceClassification model from a BertForSequenceClassification model).\n",
      "Some weights of BertForSequenceClassification were not initialized from the model checkpoint at bert-base-cased and are newly initialized: ['classifier.weight', 'classifier.bias']\n",
      "You should probably TRAIN this model on a down-stream task to be able to use it for predictions and inference.\n"
     ]
    },
    {
     "name": "stdout",
     "output_type": "stream",
     "text": [
      "Epoch [1/20], Step [125/5000], Train Loss: 0.6690, Valid Loss: 0.7051\n",
      "Model saved to ==> ../data/output/model.pt\n",
      "Model saved to ==> ../data/output/metrics.pt\n",
      "Epoch [1/20], Step [250/5000], Train Loss: 0.6544, Valid Loss: 0.7886\n",
      "Epoch [2/20], Step [375/5000], Train Loss: 0.6602, Valid Loss: 0.6482\n",
      "Model saved to ==> ../data/output/model.pt\n",
      "Model saved to ==> ../data/output/metrics.pt\n",
      "Epoch [2/20], Step [500/5000], Train Loss: 0.6283, Valid Loss: 0.6587\n",
      "Epoch [3/20], Step [625/5000], Train Loss: 0.6408, Valid Loss: 0.6229\n",
      "Model saved to ==> ../data/output/model.pt\n",
      "Model saved to ==> ../data/output/metrics.pt\n",
      "Epoch [3/20], Step [750/5000], Train Loss: 0.6117, Valid Loss: 0.6340\n",
      "Epoch [4/20], Step [875/5000], Train Loss: 0.6307, Valid Loss: 0.6043\n",
      "Model saved to ==> ../data/output/model.pt\n",
      "Model saved to ==> ../data/output/metrics.pt\n",
      "Epoch [4/20], Step [1000/5000], Train Loss: 0.5969, Valid Loss: 0.5807\n",
      "Model saved to ==> ../data/output/model.pt\n",
      "Model saved to ==> ../data/output/metrics.pt\n",
      "Epoch [5/20], Step [1125/5000], Train Loss: 0.6108, Valid Loss: 0.5856\n",
      "Epoch [5/20], Step [1250/5000], Train Loss: 0.5721, Valid Loss: 0.5574\n",
      "Model saved to ==> ../data/output/model.pt\n",
      "Model saved to ==> ../data/output/metrics.pt\n",
      "Epoch [6/20], Step [1375/5000], Train Loss: 0.5918, Valid Loss: 0.5574\n",
      "Model saved to ==> ../data/output/model.pt\n",
      "Model saved to ==> ../data/output/metrics.pt\n",
      "Epoch [6/20], Step [1500/5000], Train Loss: 0.5498, Valid Loss: 0.5349\n",
      "Model saved to ==> ../data/output/model.pt\n",
      "Model saved to ==> ../data/output/metrics.pt\n",
      "Epoch [7/20], Step [1625/5000], Train Loss: 0.5681, Valid Loss: 0.5416\n",
      "Epoch [7/20], Step [1750/5000], Train Loss: 0.5325, Valid Loss: 0.5191\n",
      "Model saved to ==> ../data/output/model.pt\n",
      "Model saved to ==> ../data/output/metrics.pt\n",
      "Epoch [8/20], Step [1875/5000], Train Loss: 0.5469, Valid Loss: 0.5225\n",
      "Epoch [8/20], Step [2000/5000], Train Loss: 0.5093, Valid Loss: 0.5011\n",
      "Model saved to ==> ../data/output/model.pt\n",
      "Model saved to ==> ../data/output/metrics.pt\n",
      "Epoch [9/20], Step [2125/5000], Train Loss: 0.5308, Valid Loss: 0.5105\n",
      "Epoch [9/20], Step [2250/5000], Train Loss: 0.5012, Valid Loss: 0.4929\n",
      "Model saved to ==> ../data/output/model.pt\n",
      "Model saved to ==> ../data/output/metrics.pt\n",
      "Epoch [10/20], Step [2375/5000], Train Loss: 0.5084, Valid Loss: 0.5052\n",
      "Epoch [10/20], Step [2500/5000], Train Loss: 0.4748, Valid Loss: 0.4849\n",
      "Model saved to ==> ../data/output/model.pt\n",
      "Model saved to ==> ../data/output/metrics.pt\n",
      "Epoch [11/20], Step [2625/5000], Train Loss: 0.5079, Valid Loss: 0.4921\n",
      "Epoch [11/20], Step [2750/5000], Train Loss: 0.4615, Valid Loss: 0.4833\n",
      "Model saved to ==> ../data/output/model.pt\n",
      "Model saved to ==> ../data/output/metrics.pt\n",
      "Epoch [12/20], Step [2875/5000], Train Loss: 0.4944, Valid Loss: 0.4956\n",
      "Epoch [12/20], Step [3000/5000], Train Loss: 0.4464, Valid Loss: 0.4857\n",
      "Epoch [13/20], Step [3125/5000], Train Loss: 0.4823, Valid Loss: 0.4904\n",
      "Epoch [13/20], Step [3250/5000], Train Loss: 0.4460, Valid Loss: 0.4815\n",
      "Model saved to ==> ../data/output/model.pt\n",
      "Model saved to ==> ../data/output/metrics.pt\n",
      "Epoch [14/20], Step [3375/5000], Train Loss: 0.4759, Valid Loss: 0.4860\n",
      "Epoch [14/20], Step [3500/5000], Train Loss: 0.4415, Valid Loss: 0.4813\n",
      "Model saved to ==> ../data/output/model.pt\n",
      "Model saved to ==> ../data/output/metrics.pt\n",
      "Epoch [15/20], Step [3625/5000], Train Loss: 0.4676, Valid Loss: 0.4762\n",
      "Model saved to ==> ../data/output/model.pt\n",
      "Model saved to ==> ../data/output/metrics.pt\n",
      "Epoch [15/20], Step [3750/5000], Train Loss: 0.4257, Valid Loss: 0.4900\n",
      "Epoch [16/20], Step [3875/5000], Train Loss: 0.4675, Valid Loss: 0.4786\n",
      "Epoch [16/20], Step [4000/5000], Train Loss: 0.4191, Valid Loss: 0.4721\n",
      "Model saved to ==> ../data/output/model.pt\n",
      "Model saved to ==> ../data/output/metrics.pt\n",
      "Epoch [17/20], Step [4125/5000], Train Loss: 0.4518, Valid Loss: 0.4751\n",
      "Epoch [17/20], Step [4250/5000], Train Loss: 0.4212, Valid Loss: 0.4730\n",
      "Epoch [18/20], Step [4375/5000], Train Loss: 0.4425, Valid Loss: 0.4680\n",
      "Model saved to ==> ../data/output/model.pt\n",
      "Model saved to ==> ../data/output/metrics.pt\n",
      "Epoch [18/20], Step [4500/5000], Train Loss: 0.4048, Valid Loss: 0.4714\n",
      "Epoch [19/20], Step [4625/5000], Train Loss: 0.4316, Valid Loss: 0.4711\n",
      "Epoch [19/20], Step [4750/5000], Train Loss: 0.3980, Valid Loss: 0.4674\n",
      "Model saved to ==> ../data/output/model.pt\n",
      "Model saved to ==> ../data/output/metrics.pt\n",
      "Epoch [20/20], Step [4875/5000], Train Loss: 0.4302, Valid Loss: 0.4628\n",
      "Model saved to ==> ../data/output/model.pt\n",
      "Model saved to ==> ../data/output/metrics.pt\n",
      "Epoch [20/20], Step [5000/5000], Train Loss: 0.3889, Valid Loss: 0.4654\n",
      "Model saved to ==> ../data/output/metrics.pt\n",
      "Finished Training!\n",
      "CPU times: user 16min 27s, sys: 1min 55s, total: 18min 22s\n",
      "Wall time: 18min 24s\n"
     ]
    }
   ],
   "source": [
    "%%time\n",
    "# Instantiate \n",
    "model = BERT().to(device)\n",
    "optimizer = optim.Adam(model.parameters(), lr=5e-7)\n",
    "\n",
    "train(model=model, optimizer=optimizer, num_epochs=20)"
   ]
  },
  {
   "cell_type": "markdown",
   "metadata": {},
   "source": [
    "## Evlauate Model"
   ]
  },
  {
   "cell_type": "code",
   "execution_count": 22,
   "metadata": {},
   "outputs": [
    {
     "name": "stdout",
     "output_type": "stream",
     "text": [
      "Model loaded from <== ../data/output/metrics.pt\n"
     ]
    },
    {
     "data": {
      "image/png": "[encoded data removed]",
      "text/plain": [
       "<Figure size 432x288 with 1 Axes>"
      ]
     },
     "metadata": {
      "needs_background": "light"
     },
     "output_type": "display_data"
    }
   ],
   "source": [
    "train_loss_list, valid_loss_list, global_steps_list = load_metrics(OUTPUT_DIR / 'metrics.pt')\n",
    "plt.plot(global_steps_list, train_loss_list, label='Train')\n",
    "plt.plot(global_steps_list, valid_loss_list, label='Valid')\n",
    "plt.xlabel('Global Steps')\n",
    "plt.ylabel('Loss')\n",
    "plt.legend()\n",
    "plt.show() "
   ]
  },
  {
   "cell_type": "code",
   "execution_count": 23,
   "metadata": {},
   "outputs": [],
   "source": [
    "def evaluate(model, test_loader):\n",
    "    y_pred = []\n",
    "    y_true = []\n",
    "\n",
    "    model.eval()\n",
    "    with torch.no_grad():\n",
    "        for (label, text), _ in test_loader:\n",
    "\n",
    "                label = label.type(torch.LongTensor)           \n",
    "                label = label.to(device)\n",
    "                text = text.type(torch.LongTensor)  \n",
    "                text = text.to(device)\n",
    "                output = model(text, label)\n",
    "\n",
    "                _, output = output\n",
    "                y_pred.extend(torch.argmax(output, 1).tolist())\n",
    "                y_true.extend(label.tolist())\n",
    "    \n",
    "    print('Classification Report:')\n",
    "    print(classification_report(y_true, y_pred, labels=[1,0], digits=4))\n",
    "    \n",
    "    cm = confusion_matrix(y_true, y_pred, labels=[1,0])\n",
    "    ax= plt.subplot()\n",
    "    sns.heatmap(cm, annot=True, ax = ax, cmap='Blues', fmt=\"d\")\n",
    "\n",
    "    ax.set_title('Confusion Matrix')\n",
    "\n",
    "    ax.set_xlabel('Predicted Labels')\n",
    "    ax.set_ylabel('True Labels')\n",
    "\n",
    "    ax.xaxis.set_ticklabels(['SARCASM', 'NOT_SARCASM'])\n",
    "    ax.yaxis.set_ticklabels(['SARCASM', 'NOT_SARCASM'])"
   ]
  },
  {
   "cell_type": "code",
   "execution_count": 24,
   "metadata": {},
   "outputs": [
    {
     "name": "stderr",
     "output_type": "stream",
     "text": [
      "Some weights of the model checkpoint at bert-base-cased were not used when initializing BertForSequenceClassification: ['cls.predictions.bias', 'cls.predictions.transform.dense.weight', 'cls.predictions.transform.dense.bias', 'cls.predictions.decoder.weight', 'cls.seq_relationship.weight', 'cls.seq_relationship.bias', 'cls.predictions.transform.LayerNorm.weight', 'cls.predictions.transform.LayerNorm.bias']\n",
      "- This IS expected if you are initializing BertForSequenceClassification from the checkpoint of a model trained on another task or with another architecture (e.g. initializing a BertForSequenceClassification model from a BertForPreTraining model).\n",
      "- This IS NOT expected if you are initializing BertForSequenceClassification from the checkpoint of a model that you expect to be exactly identical (initializing a BertForSequenceClassification model from a BertForSequenceClassification model).\n",
      "Some weights of BertForSequenceClassification were not initialized from the model checkpoint at bert-base-cased and are newly initialized: ['classifier.weight', 'classifier.bias']\n",
      "You should probably TRAIN this model on a down-stream task to be able to use it for predictions and inference.\n"
     ]
    },
    {
     "name": "stdout",
     "output_type": "stream",
     "text": [
      "Model loaded from <== ../data/output/model.pt\n",
      "Classification Report:\n",
      "              precision    recall  f1-score   support\n",
      "\n",
      "           1     0.6978    0.9069    0.7887       247\n",
      "           0     0.8715    0.6166    0.7222       253\n",
      "\n",
      "    accuracy                         0.7600       500\n",
      "   macro avg     0.7847    0.7617    0.7555       500\n",
      "weighted avg     0.7857    0.7600    0.7551       500\n",
      "\n"
     ]
    },
    {
     "data": {
      "image/png": "[encoded data removed]",
      "text/plain": [
       "<Figure size 432x288 with 2 Axes>"
      ]
     },
     "metadata": {
      "needs_background": "light"
     },
     "output_type": "display_data"
    }
   ],
   "source": [
    "# Instantiate Model\n",
    "best_model = BERT().to(device)\n",
    "\n",
    "# Load Best Model Params\n",
    "load_checkpoint(OUTPUT_DIR / 'model.pt', best_model)\n",
    "\n",
    "# Get Predictions\n",
    "evaluate(best_model, test_iter)"
   ]
  },
  {
   "cell_type": "markdown",
   "metadata": {},
   "source": [
    "## Predictions for Submission"
   ]
  },
  {
   "cell_type": "code",
   "execution_count": 25,
   "metadata": {},
   "outputs": [],
   "source": [
    "# Model parameter\n",
    "PAD_INDEX = tokenizer.convert_tokens_to_ids(tokenizer.pad_token)\n",
    "UNK_INDEX = tokenizer.convert_tokens_to_ids(tokenizer.unk_token)\n",
    "\n",
    "# Fields\n",
    "label_field = Field(sequential=False, use_vocab=False, batch_first=True, dtype=torch.float)\n",
    "text_field = Field(use_vocab=False, tokenize=tokenizer.encode, lower=False, include_lengths=False, \n",
    "                   batch_first=True, fix_length=MAX_SEQ_LEN, pad_token=PAD_INDEX, unk_token=UNK_INDEX)\n",
    "fields = [('label', label_field), ('text', text_field)]\n",
    "\n",
    "# TabularDataset\n",
    "train, valid, sub = TabularDataset.splits(path=OUTPUT_DIR, \n",
    "                                          train='train.csv', \n",
    "                                          validation='validate.csv', \n",
    "                                          test='sub.csv', \n",
    "                                          format='CSV', fields=fields, skip_header=True)\n",
    "\n",
    "# Iterators\n",
    "train_iter = BucketIterator(train, batch_size=BATCH_SIZE, sort_key=lambda x: len(x.text), \n",
    "                            device=device, train=True, sort=True, sort_within_batch=True)\n",
    "valid_iter = BucketIterator(valid, batch_size=BATCH_SIZE, sort_key=lambda x: len(x.text), \n",
    "                            device=device, train=True, sort=True, sort_within_batch=True)\n",
    "sub_iter = Iterator(sub, batch_size=BATCH_SIZE, device=device, train=False, shuffle=False, sort=False)"
   ]
  },
  {
   "cell_type": "code",
   "execution_count": 28,
   "metadata": {},
   "outputs": [],
   "source": [
    "# Predict Function\n",
    "def predict(model, sub_loader):\n",
    "    y_pred = []\n",
    "\n",
    "    model.eval()\n",
    "    with torch.no_grad():\n",
    "        for (label, text), _ in sub_loader:\n",
    "                label = label.type(torch.LongTensor)           \n",
    "                label = label.to(device)\n",
    "                text = text.type(torch.LongTensor)  \n",
    "                text = text.to(device)\n",
    "                output = model(text, label)\n",
    "\n",
    "                _, output = output\n",
    "                y_pred.extend(torch.argmax(output, 1).tolist())\n",
    "\n",
    "    return y_pred"
   ]
  },
  {
   "cell_type": "code",
   "execution_count": 29,
   "metadata": {},
   "outputs": [
    {
     "name": "stderr",
     "output_type": "stream",
     "text": [
      "Some weights of the model checkpoint at bert-base-cased were not used when initializing BertForSequenceClassification: ['cls.predictions.bias', 'cls.predictions.transform.dense.weight', 'cls.predictions.transform.dense.bias', 'cls.predictions.decoder.weight', 'cls.seq_relationship.weight', 'cls.seq_relationship.bias', 'cls.predictions.transform.LayerNorm.weight', 'cls.predictions.transform.LayerNorm.bias']\n",
      "- This IS expected if you are initializing BertForSequenceClassification from the checkpoint of a model trained on another task or with another architecture (e.g. initializing a BertForSequenceClassification model from a BertForPreTraining model).\n",
      "- This IS NOT expected if you are initializing BertForSequenceClassification from the checkpoint of a model that you expect to be exactly identical (initializing a BertForSequenceClassification model from a BertForSequenceClassification model).\n",
      "Some weights of BertForSequenceClassification were not initialized from the model checkpoint at bert-base-cased and are newly initialized: ['classifier.weight', 'classifier.bias']\n",
      "You should probably TRAIN this model on a down-stream task to be able to use it for predictions and inference.\n"
     ]
    },
    {
     "name": "stdout",
     "output_type": "stream",
     "text": [
      "Model loaded from <== ../data/output/model.pt\n"
     ]
    }
   ],
   "source": [
    "# Instantiate Model\n",
    "best_model = BERT().to(device)\n",
    "\n",
    "# Load Best Model Params\n",
    "load_checkpoint(OUTPUT_DIR / 'model.pt', best_model)\n",
    "\n",
    "# Get Predictions\n",
    "y_pred = predict(best_model, sub_iter)"
   ]
  },
  {
   "cell_type": "code",
   "execution_count": 30,
   "metadata": {},
   "outputs": [],
   "source": [
    "# Create Lists of IDs and Predictions\n",
    "id_list = ['twitter_' + str(x) for x in range(1,1801)]\n",
    "label_list = ['SARCASM' if x == 1 else 'NOT_SARCASM' for x in y_pred] "
   ]
  },
  {
   "cell_type": "code",
   "execution_count": 31,
   "metadata": {},
   "outputs": [],
   "source": [
    "# Create Dataframe for Submission\n",
    "df_submission = pd.DataFrame(list(zip(id_list, label_list)), columns =['id', 'label']) "
   ]
  },
  {
   "cell_type": "code",
   "execution_count": 32,
   "metadata": {},
   "outputs": [
    {
     "data": {
      "text/html": [
       "<div>\n",
       "<style scoped>\n",
       "    .dataframe tbody tr th:only-of-type {\n",
       "        vertical-align: middle;\n",
       "    }\n",
       "\n",
       "    .dataframe tbody tr th {\n",
       "        vertical-align: top;\n",
       "    }\n",
       "\n",
       "    .dataframe thead th {\n",
       "        text-align: right;\n",
       "    }\n",
       "</style>\n",
       "<table border=\"1\" class=\"dataframe\">\n",
       "  <thead>\n",
       "    <tr style=\"text-align: right;\">\n",
       "      <th></th>\n",
       "      <th>id</th>\n",
       "      <th>label</th>\n",
       "    </tr>\n",
       "  </thead>\n",
       "  <tbody>\n",
       "    <tr>\n",
       "      <th>0</th>\n",
       "      <td>twitter_1</td>\n",
       "      <td>NOT_SARCASM</td>\n",
       "    </tr>\n",
       "    <tr>\n",
       "      <th>1</th>\n",
       "      <td>twitter_2</td>\n",
       "      <td>SARCASM</td>\n",
       "    </tr>\n",
       "    <tr>\n",
       "      <th>2</th>\n",
       "      <td>twitter_3</td>\n",
       "      <td>SARCASM</td>\n",
       "    </tr>\n",
       "    <tr>\n",
       "      <th>3</th>\n",
       "      <td>twitter_4</td>\n",
       "      <td>SARCASM</td>\n",
       "    </tr>\n",
       "    <tr>\n",
       "      <th>4</th>\n",
       "      <td>twitter_5</td>\n",
       "      <td>SARCASM</td>\n",
       "    </tr>\n",
       "  </tbody>\n",
       "</table>\n",
       "</div>"
      ],
      "text/plain": [
       "          id        label\n",
       "0  twitter_1  NOT_SARCASM\n",
       "1  twitter_2      SARCASM\n",
       "2  twitter_3      SARCASM\n",
       "3  twitter_4      SARCASM\n",
       "4  twitter_5      SARCASM"
      ]
     },
     "execution_count": 32,
     "metadata": {},
     "output_type": "execute_result"
    }
   ],
   "source": [
    "df_submission.head()"
   ]
  },
  {
   "cell_type": "code",
   "execution_count": 33,
   "metadata": {},
   "outputs": [],
   "source": [
    "df_submission.to_csv('../answer.txt', header=False, index=False)"
   ]
  },
  {
   "cell_type": "code",
   "execution_count": null,
   "metadata": {},
   "outputs": [],
   "source": []
  }
 ],
 "metadata": {
  "kernelspec": {
   "display_name": "Python 3",
   "language": "python",
   "name": "python3"
  },
  "language_info": {
   "codemirror_mode": {
    "name": "ipython",
    "version": 3
   },
   "file_extension": ".py",
   "mimetype": "text/x-python",
   "name": "python",
   "nbconvert_exporter": "python",
   "pygments_lexer": "ipython3",
   "version": "3.8.5"
  }
 },
 "nbformat": 4,
 "nbformat_minor": 4
}
