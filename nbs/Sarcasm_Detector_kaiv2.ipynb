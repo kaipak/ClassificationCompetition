{
  "nbformat": 4,
  "nbformat_minor": 0,
  "metadata": {
    "accelerator": "GPU",
    "colab": {
      "name": "Sarcasm_Detector_kaiv2",
      "provenance": [],
      "collapsed_sections": [],
      "machine_shape": "hm",
      "authorship_tag": "ABX9TyNTpEKDUsQGiADYdqsd577Z",
      "include_colab_link": true
    },
    "kernelspec": {
      "display_name": "Python 3",
      "name": "python3"
    }
  },
  "cells": [
    {
      "cell_type": "markdown",
      "metadata": {
        "id": "view-in-github",
        "colab_type": "text"
      },
      "source": [
        "<a href=\"https://colab.research.google.com/github/kaipak/ClassificationCompetition/blob/main/nbs/Sarcasm_Detector_kaiv2.ipynb\" target=\"_parent\"><img src=\"https://colab.research.google.com/assets/colab-badge.svg\" alt=\"Open In Colab\"/></a>"
      ]
    },
    {
      "cell_type": "code",
      "metadata": {
        "colab": {
          "base_uri": "https://localhost:8080/"
        },
        "id": "LO8xZTlk7c7Y",
        "outputId": "937d5506-af16-4c00-ef91-ce5b7e8f06a8"
      },
      "source": [
        "from google.colab import drive\n",
        "drive.mount('/content/drive', force_remount=True)\n",
        "#!git clone https://github.com/kaipak/ClassificationCompetition.git drive/MyDrive/dev/ClassificationCompetition\n",
        "!pip install transformers"
      ],
      "execution_count": null,
      "outputs": [
        {
          "output_type": "stream",
          "text": [
            "Mounted at /content/drive\n",
            "Requirement already satisfied: transformers in /usr/local/lib/python3.6/dist-packages (4.0.0)\n",
            "Requirement already satisfied: tqdm>=4.27 in /usr/local/lib/python3.6/dist-packages (from transformers) (4.41.1)\n",
            "Requirement already satisfied: numpy in /usr/local/lib/python3.6/dist-packages (from transformers) (1.18.5)\n",
            "Requirement already satisfied: requests in /usr/local/lib/python3.6/dist-packages (from transformers) (2.23.0)\n",
            "Requirement already satisfied: sacremoses in /usr/local/lib/python3.6/dist-packages (from transformers) (0.0.43)\n",
            "Requirement already satisfied: regex!=2019.12.17 in /usr/local/lib/python3.6/dist-packages (from transformers) (2019.12.20)\n",
            "Requirement already satisfied: tokenizers==0.9.4 in /usr/local/lib/python3.6/dist-packages (from transformers) (0.9.4)\n",
            "Requirement already satisfied: dataclasses; python_version < \"3.7\" in /usr/local/lib/python3.6/dist-packages (from transformers) (0.8)\n",
            "Requirement already satisfied: packaging in /usr/local/lib/python3.6/dist-packages (from transformers) (20.4)\n",
            "Requirement already satisfied: filelock in /usr/local/lib/python3.6/dist-packages (from transformers) (3.0.12)\n",
            "Requirement already satisfied: idna<3,>=2.5 in /usr/local/lib/python3.6/dist-packages (from requests->transformers) (2.10)\n",
            "Requirement already satisfied: chardet<4,>=3.0.2 in /usr/local/lib/python3.6/dist-packages (from requests->transformers) (3.0.4)\n",
            "Requirement already satisfied: urllib3!=1.25.0,!=1.25.1,<1.26,>=1.21.1 in /usr/local/lib/python3.6/dist-packages (from requests->transformers) (1.24.3)\n",
            "Requirement already satisfied: certifi>=2017.4.17 in /usr/local/lib/python3.6/dist-packages (from requests->transformers) (2020.11.8)\n",
            "Requirement already satisfied: six in /usr/local/lib/python3.6/dist-packages (from sacremoses->transformers) (1.15.0)\n",
            "Requirement already satisfied: click in /usr/local/lib/python3.6/dist-packages (from sacremoses->transformers) (7.1.2)\n",
            "Requirement already satisfied: joblib in /usr/local/lib/python3.6/dist-packages (from sacremoses->transformers) (0.17.0)\n",
            "Requirement already satisfied: pyparsing>=2.0.2 in /usr/local/lib/python3.6/dist-packages (from packaging->transformers) (2.4.7)\n"
          ],
          "name": "stdout"
        }
      ]
    },
    {
      "cell_type": "code",
      "metadata": {
        "id": "b5BYl2Q0Kkpb"
      },
      "source": [
        "%load_ext autoreload\n",
        "%autoreload 2\n",
        "%matplotlib inline\n",
        "%load_ext tensorboard"
      ],
      "execution_count": null,
      "outputs": []
    },
    {
      "cell_type": "code",
      "metadata": {
        "id": "0hN-abM__qUZ"
      },
      "source": [
        "import sys, os\n",
        "from pathlib import Path\n",
        "import random\n",
        "from pathlib import Path\n",
        "import pandas as pd\n",
        "import matplotlib.pyplot as plt\n",
        "import seaborn as sns\n",
        "sys.path.append('drive/MyDrive/dev/ClassificationCompetition/src')\n",
        "from model import SarcasmDetector\n",
        "from data_prep import DataPrep"
      ],
      "execution_count": null,
      "outputs": []
    },
    {
      "cell_type": "code",
      "metadata": {
        "colab": {
          "base_uri": "https://localhost:8080/"
        },
        "id": "rqEub-iT623J",
        "outputId": "1172b6c5-7ddd-4a86-cf02-bbc40934df96"
      },
      "source": [
        "!ls -l drive/MyDrive/dev/ClassificationCompetition"
      ],
      "execution_count": null,
      "outputs": [
        {
          "output_type": "stream",
          "text": [
            "total 11088\n",
            "-rw------- 1 root root    43649 Dec  7 16:00 answer.txt\n",
            "drwx------ 2 root root     4096 Dec  7 16:00 data\n",
            "-rw------- 1 root root      152 Dec  7 16:00 livedatalab_config.json\n",
            "drwx------ 2 root root     4096 Dec  7 16:00 nbs\n",
            "-rw------- 1 root root     2180 Dec  7 15:59 README.md\n",
            "-rw------- 1 root root 11294523 Dec  7 16:00 SarcasmDetectionV3.ipynb\n",
            "drwx------ 3 root root     4096 Dec  7 16:00 src\n"
          ],
          "name": "stdout"
        }
      ]
    },
    {
      "cell_type": "code",
      "metadata": {
        "id": "dln7Hk1YGc6f"
      },
      "source": [
        "repo_path = Path('drive/MyDrive/dev/ClassificationCompetition')\n",
        "train_path = Path(repo_path / 'data/train.jsonl')\n",
        "sub_path = Path(repo_path / 'data/test.jsonl')\n",
        "output_path = Path(repo_path / 'data/output/')\n",
        "input_path = Path(repo_path / 'data')\n",
        "train_log_dir = Path( repo_path / 'data/logs/tensorboard/train')"
      ],
      "execution_count": null,
      "outputs": []
    },
    {
      "cell_type": "code",
      "metadata": {
        "colab": {
          "base_uri": "https://localhost:8080/"
        },
        "id": "WlB1l_jlAdZC",
        "outputId": "1b020cbe-7012-4da6-a84f-b8e6f6207799"
      },
      "source": [
        "data_prepper = DataPrep(response_only=True, train_path=train_path, sub_path=sub_path)\n",
        "data_prepper.train_test_split(random_state=255, test_size=.10)"
      ],
      "execution_count": null,
      "outputs": [
        {
          "output_type": "stream",
          "text": [
            "0.1 test ratio results in 4500 training, 250 validation, and 250 test observations.\n"
          ],
          "name": "stdout"
        }
      ]
    },
    {
      "cell_type": "code",
      "metadata": {
        "colab": {
          "base_uri": "https://localhost:8080/",
          "height": 204
        },
        "id": "LEzqD3WbGGbT",
        "outputId": "fd4c74bc-b041-4541-a98c-6ddbc13bc486"
      },
      "source": [
        "data_prepper.df.head()"
      ],
      "execution_count": null,
      "outputs": [
        {
          "output_type": "execute_result",
          "data": {
            "text/html": [
              "<div>\n",
              "<style scoped>\n",
              "    .dataframe tbody tr th:only-of-type {\n",
              "        vertical-align: middle;\n",
              "    }\n",
              "\n",
              "    .dataframe tbody tr th {\n",
              "        vertical-align: top;\n",
              "    }\n",
              "\n",
              "    .dataframe thead th {\n",
              "        text-align: right;\n",
              "    }\n",
              "</style>\n",
              "<table border=\"1\" class=\"dataframe\">\n",
              "  <thead>\n",
              "    <tr style=\"text-align: right;\">\n",
              "      <th></th>\n",
              "      <th>label</th>\n",
              "      <th>text</th>\n",
              "      <th>context</th>\n",
              "      <th>concat</th>\n",
              "    </tr>\n",
              "  </thead>\n",
              "  <tbody>\n",
              "    <tr>\n",
              "      <th>0</th>\n",
              "      <td>1</td>\n",
              "      <td>@USER @USER @USER I don't get this .. obviousl...</td>\n",
              "      <td>[A minor child deserves privacy and should be ...</td>\n",
              "      <td>@USER @USER @USER I don't get this .. obviousl...</td>\n",
              "    </tr>\n",
              "    <tr>\n",
              "      <th>1</th>\n",
              "      <td>1</td>\n",
              "      <td>@USER @USER trying to protest about . Talking ...</td>\n",
              "      <td>[@USER @USER Why is he a loser ? He's just a P...</td>\n",
              "      <td>@USER @USER trying to protest about . Talking ...</td>\n",
              "    </tr>\n",
              "    <tr>\n",
              "      <th>2</th>\n",
              "      <td>1</td>\n",
              "      <td>@USER @USER @USER He makes an insane about of ...</td>\n",
              "      <td>[Donald J . Trump is guilty as charged . The e...</td>\n",
              "      <td>@USER @USER @USER He makes an insane about of ...</td>\n",
              "    </tr>\n",
              "    <tr>\n",
              "      <th>3</th>\n",
              "      <td>1</td>\n",
              "      <td>@USER @USER Meanwhile Trump won't even release...</td>\n",
              "      <td>[Jamie Raskin tanked Doug Collins . Collins lo...</td>\n",
              "      <td>@USER @USER Meanwhile Trump won't even release...</td>\n",
              "    </tr>\n",
              "    <tr>\n",
              "      <th>4</th>\n",
              "      <td>1</td>\n",
              "      <td>@USER @USER Pretty Sure the Anti-Lincoln Crowd...</td>\n",
              "      <td>[Man ... y ’ all gone “ both sides ” the apoca...</td>\n",
              "      <td>@USER @USER Pretty Sure the Anti-Lincoln Crowd...</td>\n",
              "    </tr>\n",
              "  </tbody>\n",
              "</table>\n",
              "</div>"
            ],
            "text/plain": [
              "   label  ...                                             concat\n",
              "0      1  ...  @USER @USER @USER I don't get this .. obviousl...\n",
              "1      1  ...  @USER @USER trying to protest about . Talking ...\n",
              "2      1  ...  @USER @USER @USER He makes an insane about of ...\n",
              "3      1  ...  @USER @USER Meanwhile Trump won't even release...\n",
              "4      1  ...  @USER @USER Pretty Sure the Anti-Lincoln Crowd...\n",
              "\n",
              "[5 rows x 4 columns]"
            ]
          },
          "metadata": {
            "tags": []
          },
          "execution_count": 7
        }
      ]
    },
    {
      "cell_type": "code",
      "metadata": {
        "colab": {
          "base_uri": "https://localhost:8080/",
          "height": 204
        },
        "id": "uFc4e_xBI-eh",
        "outputId": "1662f520-b9f0-4a61-dad6-ab13f1aee425"
      },
      "source": [
        "data_prepper.df_sub.head()"
      ],
      "execution_count": null,
      "outputs": [
        {
          "output_type": "execute_result",
          "data": {
            "text/html": [
              "<div>\n",
              "<style scoped>\n",
              "    .dataframe tbody tr th:only-of-type {\n",
              "        vertical-align: middle;\n",
              "    }\n",
              "\n",
              "    .dataframe tbody tr th {\n",
              "        vertical-align: top;\n",
              "    }\n",
              "\n",
              "    .dataframe thead th {\n",
              "        text-align: right;\n",
              "    }\n",
              "</style>\n",
              "<table border=\"1\" class=\"dataframe\">\n",
              "  <thead>\n",
              "    <tr style=\"text-align: right;\">\n",
              "      <th></th>\n",
              "      <th>id</th>\n",
              "      <th>text</th>\n",
              "      <th>context</th>\n",
              "      <th>concat</th>\n",
              "      <th>label</th>\n",
              "    </tr>\n",
              "  </thead>\n",
              "  <tbody>\n",
              "    <tr>\n",
              "      <th>0</th>\n",
              "      <td>twitter_1</td>\n",
              "      <td>@USER @USER @USER My 3 year old , that just fi...</td>\n",
              "      <td>[Well now that ’ s problematic AF &lt;URL&gt;, @USER...</td>\n",
              "      <td>@USER @USER @USER My 3 year old , that just fi...</td>\n",
              "      <td>1</td>\n",
              "    </tr>\n",
              "    <tr>\n",
              "      <th>1</th>\n",
              "      <td>twitter_2</td>\n",
              "      <td>@USER @USER How many verifiable lies has he to...</td>\n",
              "      <td>[Last week the Fake News said that a section o...</td>\n",
              "      <td>@USER @USER How many verifiable lies has he to...</td>\n",
              "      <td>1</td>\n",
              "    </tr>\n",
              "    <tr>\n",
              "      <th>2</th>\n",
              "      <td>twitter_3</td>\n",
              "      <td>@USER @USER @USER Maybe Docs just a scrub of a...</td>\n",
              "      <td>[@USER Let ’ s Aplaud Brett When he deserves i...</td>\n",
              "      <td>@USER @USER @USER Maybe Docs just a scrub of a...</td>\n",
              "      <td>1</td>\n",
              "    </tr>\n",
              "    <tr>\n",
              "      <th>3</th>\n",
              "      <td>twitter_4</td>\n",
              "      <td>@USER @USER is just a cover up for the real ha...</td>\n",
              "      <td>[Women generally hate this president . What's ...</td>\n",
              "      <td>@USER @USER is just a cover up for the real ha...</td>\n",
              "      <td>1</td>\n",
              "    </tr>\n",
              "    <tr>\n",
              "      <th>4</th>\n",
              "      <td>twitter_5</td>\n",
              "      <td>@USER @USER @USER The irony being that he even...</td>\n",
              "      <td>[Dear media Remoaners , you excitedly sharing ...</td>\n",
              "      <td>@USER @USER @USER The irony being that he even...</td>\n",
              "      <td>1</td>\n",
              "    </tr>\n",
              "  </tbody>\n",
              "</table>\n",
              "</div>"
            ],
            "text/plain": [
              "          id  ... label\n",
              "0  twitter_1  ...     1\n",
              "1  twitter_2  ...     1\n",
              "2  twitter_3  ...     1\n",
              "3  twitter_4  ...     1\n",
              "4  twitter_5  ...     1\n",
              "\n",
              "[5 rows x 5 columns]"
            ]
          },
          "metadata": {
            "tags": []
          },
          "execution_count": 8
        }
      ]
    },
    {
      "cell_type": "code",
      "metadata": {
        "id": "JQvSE6mzNfZU"
      },
      "source": [
        "data_prepper.write_data(datapath=output_path)"
      ],
      "execution_count": null,
      "outputs": []
    },
    {
      "cell_type": "code",
      "metadata": {
        "colab": {
          "base_uri": "https://localhost:8080/"
        },
        "id": "7B5UxT8BGyVg",
        "outputId": "87575853-a8c5-43d6-c61c-6b22e9aadb4c"
      },
      "source": [
        "detector = SarcasmDetector(tokenizer_do_lc=False, \n",
        "                           tokenizer_model='bert-base-uncased',\n",
        "                           model_options_name='bert-base-uncased',\n",
        "                           input_dir=input_path,\n",
        "                           output_dir=output_path,\n",
        "                           train_log_dir=train_log_dir)"
      ],
      "execution_count": null,
      "outputs": [
        {
          "output_type": "stream",
          "text": [
            "There is/are 1 GPU(s) available.\n",
            "GPU Tesla V100-SXM2-16GB will be used.\n"
          ],
          "name": "stdout"
        },
        {
          "output_type": "stream",
          "text": [
            "Some weights of the model checkpoint at bert-base-uncased were not used when initializing BertForSequenceClassification: ['cls.predictions.bias', 'cls.predictions.transform.dense.weight', 'cls.predictions.transform.dense.bias', 'cls.predictions.decoder.weight', 'cls.seq_relationship.weight', 'cls.seq_relationship.bias', 'cls.predictions.transform.LayerNorm.weight', 'cls.predictions.transform.LayerNorm.bias']\n",
            "- This IS expected if you are initializing BertForSequenceClassification from the checkpoint of a model trained on another task or with another architecture (e.g. initializing a BertForSequenceClassification model from a BertForPreTraining model).\n",
            "- This IS NOT expected if you are initializing BertForSequenceClassification from the checkpoint of a model that you expect to be exactly identical (initializing a BertForSequenceClassification model from a BertForSequenceClassification model).\n",
            "Some weights of BertForSequenceClassification were not initialized from the model checkpoint at bert-base-uncased and are newly initialized: ['classifier.weight', 'classifier.bias']\n",
            "You should probably TRAIN this model on a down-stream task to be able to use it for predictions and inference.\n"
          ],
          "name": "stderr"
        }
      ]
    },
    {
      "cell_type": "code",
      "metadata": {
        "colab": {
          "base_uri": "https://localhost:8080/",
          "height": 821
        },
        "id": "sd65Pg7tIM3R",
        "outputId": "ddcb2a2d-64ad-4e10-9f20-e6b80e5c216c"
      },
      "source": [
        "%tensorboard --logdir drive/MyDrive/dev/ClassificationCompetition/data/logs/tensorboard/train"
      ],
      "execution_count": null,
      "outputs": []
    },
    {
      "cell_type": "code",
      "metadata": {
        "colab": {
          "base_uri": "https://localhost:8080/"
        },
        "id": "1VhDu0qiKhV6",
        "outputId": "fc7a529c-96fb-4021-d3d1-b9d428626a4d"
      },
      "source": [
        "detector.tokenize_data('train.csv', 'validate.csv', 'test.csv', batch_size=8, max_seq_len=128)"
      ],
      "execution_count": null,
      "outputs": [
        {
          "output_type": "stream",
          "text": [
            "Created train, validation, and test datasets with max_seq_len=128\n",
            "Created iterators with batch_size=8\n"
          ],
          "name": "stdout"
        }
      ]
    },
    {
      "cell_type": "code",
      "metadata": {
        "colab": {
          "background_save": true,
          "base_uri": "https://localhost:8080/",
          "height": 715
        },
        "id": "9lkSIF9zKtZA",
        "outputId": "b350f137-61e6-42fa-b946-c4e8a60ce8c7"
      },
      "source": [
        "detector.train(num_epochs=16, lr=8e-7)"
      ],
      "execution_count": null,
      "outputs": [
        {
          "output_type": "stream",
          "text": [
            "Epoch [1/15], Step [281/8445], Train Loss: 0.6766, Valid Loss: 0.7002\n",
            "Model saved to ==> drive/MyDrive/dev/ClassificationCompetition/data/output/model.pt\n",
            "Model saved to ==> drive/MyDrive/dev/ClassificationCompetition/data/output/metrics.pt\n",
            "Epoch [1/15], Step [562/8445], Train Loss: 0.6923, Valid Loss: 0.7107\n",
            "Epoch [2/15], Step [843/8445], Train Loss: 0.6964, Valid Loss: 0.6865\n",
            "Model saved to ==> drive/MyDrive/dev/ClassificationCompetition/data/output/model.pt\n",
            "Model saved to ==> drive/MyDrive/dev/ClassificationCompetition/data/output/metrics.pt\n",
            "Epoch [2/15], Step [1124/8445], Train Loss: 0.6830, Valid Loss: 0.7109\n",
            "Epoch [3/15], Step [1405/8445], Train Loss: 0.6885, Valid Loss: 0.6855\n",
            "Model saved to ==> drive/MyDrive/dev/ClassificationCompetition/data/output/model.pt\n",
            "Model saved to ==> drive/MyDrive/dev/ClassificationCompetition/data/output/metrics.pt\n",
            "Epoch [3/15], Step [1686/8445], Train Loss: 0.6753, Valid Loss: 0.7162\n",
            "Epoch [4/15], Step [1967/8445], Train Loss: 0.6882, Valid Loss: 0.6827\n",
            "Model saved to ==> drive/MyDrive/dev/ClassificationCompetition/data/output/model.pt\n",
            "Model saved to ==> drive/MyDrive/dev/ClassificationCompetition/data/output/metrics.pt\n",
            "Epoch [4/15], Step [2248/8445], Train Loss: 0.6567, Valid Loss: 0.7274\n",
            "Epoch [5/15], Step [2529/8445], Train Loss: 0.6788, Valid Loss: 0.6715\n",
            "Model saved to ==> drive/MyDrive/dev/ClassificationCompetition/data/output/model.pt\n",
            "Model saved to ==> drive/MyDrive/dev/ClassificationCompetition/data/output/metrics.pt\n",
            "Epoch [5/15], Step [2810/8445], Train Loss: 0.6378, Valid Loss: 0.6790\n",
            "Epoch [6/15], Step [3091/8445], Train Loss: 0.6603, Valid Loss: 0.6608\n",
            "Model saved to ==> drive/MyDrive/dev/ClassificationCompetition/data/output/model.pt\n",
            "Model saved to ==> drive/MyDrive/dev/ClassificationCompetition/data/output/metrics.pt\n",
            "Epoch [6/15], Step [3372/8445], Train Loss: 0.6293, Valid Loss: 0.6596\n",
            "Model saved to ==> drive/MyDrive/dev/ClassificationCompetition/data/output/model.pt\n",
            "Model saved to ==> drive/MyDrive/dev/ClassificationCompetition/data/output/metrics.pt\n",
            "Epoch [7/15], Step [3653/8445], Train Loss: 0.6423, Valid Loss: 0.6521\n",
            "Model saved to ==> drive/MyDrive/dev/ClassificationCompetition/data/output/model.pt\n",
            "Model saved to ==> drive/MyDrive/dev/ClassificationCompetition/data/output/metrics.pt\n",
            "Epoch [7/15], Step [3934/8445], Train Loss: 0.6182, Valid Loss: 0.6405\n",
            "Model saved to ==> drive/MyDrive/dev/ClassificationCompetition/data/output/model.pt\n",
            "Model saved to ==> drive/MyDrive/dev/ClassificationCompetition/data/output/metrics.pt\n",
            "Epoch [8/15], Step [4215/8445], Train Loss: 0.6401, Valid Loss: 0.6410\n",
            "Epoch [8/15], Step [4496/8445], Train Loss: 0.6060, Valid Loss: 0.6310\n",
            "Model saved to ==> drive/MyDrive/dev/ClassificationCompetition/data/output/model.pt\n",
            "Model saved to ==> drive/MyDrive/dev/ClassificationCompetition/data/output/metrics.pt\n",
            "Epoch [9/15], Step [4777/8445], Train Loss: 0.6244, Valid Loss: 0.6340\n",
            "Epoch [9/15], Step [5058/8445], Train Loss: 0.6007, Valid Loss: 0.6239\n",
            "Model saved to ==> drive/MyDrive/dev/ClassificationCompetition/data/output/model.pt\n",
            "Model saved to ==> drive/MyDrive/dev/ClassificationCompetition/data/output/metrics.pt\n",
            "Epoch [10/15], Step [5339/8445], Train Loss: 0.6182, Valid Loss: 0.6277\n",
            "Epoch [10/15], Step [5620/8445], Train Loss: 0.6012, Valid Loss: 0.6177\n",
            "Model saved to ==> drive/MyDrive/dev/ClassificationCompetition/data/output/model.pt\n",
            "Model saved to ==> drive/MyDrive/dev/ClassificationCompetition/data/output/metrics.pt\n",
            "Epoch [11/15], Step [5901/8445], Train Loss: 0.6051, Valid Loss: 0.6197\n",
            "Epoch [11/15], Step [6182/8445], Train Loss: 0.5861, Valid Loss: 0.6144\n",
            "Model saved to ==> drive/MyDrive/dev/ClassificationCompetition/data/output/model.pt\n",
            "Model saved to ==> drive/MyDrive/dev/ClassificationCompetition/data/output/metrics.pt\n",
            "Epoch [12/15], Step [6463/8445], Train Loss: 0.6039, Valid Loss: 0.6150\n",
            "Epoch [12/15], Step [6744/8445], Train Loss: 0.5811, Valid Loss: 0.6093\n",
            "Model saved to ==> drive/MyDrive/dev/ClassificationCompetition/data/output/model.pt\n",
            "Model saved to ==> drive/MyDrive/dev/ClassificationCompetition/data/output/metrics.pt\n",
            "Epoch [13/15], Step [7025/8445], Train Loss: 0.5990, Valid Loss: 0.6102\n",
            "Epoch [13/15], Step [7306/8445], Train Loss: 0.5779, Valid Loss: 0.6029\n",
            "Model saved to ==> drive/MyDrive/dev/ClassificationCompetition/data/output/model.pt\n",
            "Model saved to ==> drive/MyDrive/dev/ClassificationCompetition/data/output/metrics.pt\n",
            "Epoch [14/15], Step [7587/8445], Train Loss: 0.5883, Valid Loss: 0.6020\n",
            "Model saved to ==> drive/MyDrive/dev/ClassificationCompetition/data/output/model.pt\n",
            "Model saved to ==> drive/MyDrive/dev/ClassificationCompetition/data/output/metrics.pt\n",
            "Epoch [14/15], Step [7868/8445], Train Loss: 0.5644, Valid Loss: 0.5979\n",
            "Model saved to ==> drive/MyDrive/dev/ClassificationCompetition/data/output/model.pt\n",
            "Model saved to ==> drive/MyDrive/dev/ClassificationCompetition/data/output/metrics.pt\n",
            "Epoch [15/15], Step [8149/8445], Train Loss: 0.5816, Valid Loss: 0.5970\n",
            "Model saved to ==> drive/MyDrive/dev/ClassificationCompetition/data/output/model.pt\n",
            "Model saved to ==> drive/MyDrive/dev/ClassificationCompetition/data/output/metrics.pt\n",
            "Epoch [15/15], Step [8430/8445], Train Loss: 0.5545, Valid Loss: 0.5932\n",
            "Model saved to ==> drive/MyDrive/dev/ClassificationCompetition/data/output/model.pt\n",
            "Model saved to ==> drive/MyDrive/dev/ClassificationCompetition/data/output/metrics.pt\n",
            "Model saved to ==> drive/MyDrive/dev/ClassificationCompetition/data/output/metrics.pt\n",
            "Finished Training!\n"
          ],
          "name": "stdout"
        }
      ]
    },
    {
      "cell_type": "code",
      "metadata": {
        "colab": {
          "base_uri": "https://localhost:8080/",
          "height": 298
        },
        "id": "APXv1p6fKwfD",
        "outputId": "7b02ef65-8d52-4125-dca9-7d90792dc8a9"
      },
      "source": [
        "train_loss_list, valid_loss_list, global_steps_list = detector.load_metrics(output_path / 'metrics.pt')\n",
        "plt.plot(global_steps_list, train_loss_list, label='Train')\n",
        "plt.plot(global_steps_list, valid_loss_list, label='Valid')\n",
        "plt.xlabel('Global Steps')\n",
        "plt.ylabel('Loss')\n",
        "plt.legend()\n",
        "plt.show()"
      ],
      "execution_count": null,
      "outputs": [
        {
          "output_type": "stream",
          "text": [
            "Model loaded from drive/MyDrive/dev/ClassificationCompetition/data/output.\n"
          ],
          "name": "stdout"
        },
        {
          "output_type": "display_data",
          "data": {
            "image/png": "[encoded data removed]",
            "text/plain": [
              "<Figure size 432x288 with 1 Axes>"
            ]
          },
          "metadata": {
            "tags": []
          }
        }
      ]
    },
    {
      "cell_type": "code",
      "metadata": {
        "colab": {
          "base_uri": "https://localhost:8080/",
          "height": 483
        },
        "id": "MtKcgjvnNGK-",
        "outputId": "9b705176-be51-4df0-f99d-15c5c65f8c23"
      },
      "source": [
        "detector.evaluate()"
      ],
      "execution_count": null,
      "outputs": [
        {
          "output_type": "stream",
          "text": [
            "Model loaded from <== drive/MyDrive/dev/ClassificationCompetition/data/output/model.pt\n",
            "Classification Report:\n",
            "              precision    recall  f1-score   support\n",
            "\n",
            "           1     0.7198    0.7801    0.7487       191\n",
            "           0     0.7500    0.6848    0.7159       184\n",
            "\n",
            "    accuracy                         0.7333       375\n",
            "   macro avg     0.7349    0.7324    0.7323       375\n",
            "weighted avg     0.7346    0.7333    0.7326       375\n",
            "\n"
          ],
          "name": "stdout"
        },
        {
          "output_type": "display_data",
          "data": {
            "image/png": "[encoded data removed]",
            "text/plain": [
              "<Figure size 432x288 with 2 Axes>"
            ]
          },
          "metadata": {
            "tags": []
          }
        }
      ]
    },
    {
      "cell_type": "code",
      "metadata": {
        "colab": {
          "base_uri": "https://localhost:8080/",
          "height": 258
        },
        "id": "9PKi3kEXOQPL",
        "outputId": "9554b7b3-6e26-4170-da34-d1c456d1504a"
      },
      "source": [
        "df_sub = detector.predict(filepath=output_path / 'sub.csv')\n",
        "df_sub.head()"
      ],
      "execution_count": null,
      "outputs": [
        {
          "output_type": "stream",
          "text": [
            "Token indices sequence length is longer than the specified maximum sequence length for this model (538 > 512). Running this sequence through the model will result in indexing errors\n"
          ],
          "name": "stderr"
        },
        {
          "output_type": "stream",
          "text": [
            "Model loaded from <== drive/MyDrive/dev/ClassificationCompetition/data/output/model.pt\n"
          ],
          "name": "stdout"
        },
        {
          "output_type": "execute_result",
          "data": {
            "text/html": [
              "<div>\n",
              "<style scoped>\n",
              "    .dataframe tbody tr th:only-of-type {\n",
              "        vertical-align: middle;\n",
              "    }\n",
              "\n",
              "    .dataframe tbody tr th {\n",
              "        vertical-align: top;\n",
              "    }\n",
              "\n",
              "    .dataframe thead th {\n",
              "        text-align: right;\n",
              "    }\n",
              "</style>\n",
              "<table border=\"1\" class=\"dataframe\">\n",
              "  <thead>\n",
              "    <tr style=\"text-align: right;\">\n",
              "      <th></th>\n",
              "      <th>id</th>\n",
              "      <th>label</th>\n",
              "    </tr>\n",
              "  </thead>\n",
              "  <tbody>\n",
              "    <tr>\n",
              "      <th>0</th>\n",
              "      <td>twitter_1</td>\n",
              "      <td>NOT_SARCASM</td>\n",
              "    </tr>\n",
              "    <tr>\n",
              "      <th>1</th>\n",
              "      <td>twitter_2</td>\n",
              "      <td>NOT_SARCASM</td>\n",
              "    </tr>\n",
              "    <tr>\n",
              "      <th>2</th>\n",
              "      <td>twitter_3</td>\n",
              "      <td>NOT_SARCASM</td>\n",
              "    </tr>\n",
              "    <tr>\n",
              "      <th>3</th>\n",
              "      <td>twitter_4</td>\n",
              "      <td>NOT_SARCASM</td>\n",
              "    </tr>\n",
              "    <tr>\n",
              "      <th>4</th>\n",
              "      <td>twitter_5</td>\n",
              "      <td>NOT_SARCASM</td>\n",
              "    </tr>\n",
              "  </tbody>\n",
              "</table>\n",
              "</div>"
            ],
            "text/plain": [
              "          id        label\n",
              "0  twitter_1  NOT_SARCASM\n",
              "1  twitter_2  NOT_SARCASM\n",
              "2  twitter_3  NOT_SARCASM\n",
              "3  twitter_4  NOT_SARCASM\n",
              "4  twitter_5  NOT_SARCASM"
            ]
          },
          "metadata": {
            "tags": []
          },
          "execution_count": 19
        }
      ]
    },
    {
      "cell_type": "code",
      "metadata": {
        "id": "2AaU8yYKU2R1"
      },
      "source": [
        "df_sub.to_csv(repo_path / 'answer.txt', header=False, index=False)"
      ],
      "execution_count": null,
      "outputs": []
    },
    {
      "cell_type": "code",
      "metadata": {
        "colab": {
          "base_uri": "https://localhost:8080/"
        },
        "id": "j9dlHWbJVQOe",
        "outputId": "17de568e-e9d0-4ffb-e9a8-2b59289009fd"
      },
      "source": [
        "print(\"[foo]\")"
      ],
      "execution_count": null,
      "outputs": [
        {
          "output_type": "stream",
          "text": [
            "[foo]\n"
          ],
          "name": "stdout"
        }
      ]
    },
    {
      "cell_type": "code",
      "metadata": {
        "id": "ueAh_R0WOcj4"
      },
      "source": [
        ""
      ],
      "execution_count": null,
      "outputs": []
    }
  ]
}