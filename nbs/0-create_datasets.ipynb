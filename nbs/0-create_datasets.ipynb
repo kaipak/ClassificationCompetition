{
 "cells": [
  {
   "cell_type": "code",
   "execution_count": 1,
   "metadata": {},
   "outputs": [],
   "source": [
    "%reload_ext autoreload\n",
    "%autoreload 2\n",
    "%matplotlib inline"
   ]
  },
  {
   "cell_type": "code",
   "execution_count": 22,
   "metadata": {},
   "outputs": [],
   "source": [
    "import os, sys\n",
    "from pathlib import Path\n",
    "\n",
    "import numpy as np\n",
    "import pandas as pd\n",
    "\n",
    "sys.path.append('../')\n",
    "\n",
    "from src.data_prep import DataPrep as dp"
   ]
  },
  {
   "cell_type": "code",
   "execution_count": 21,
   "metadata": {},
   "outputs": [],
   "source": [
    "df_train = pd.read_json('../data/train.jsonl', lines=True)"
   ]
  },
  {
   "cell_type": "code",
   "execution_count": 23,
   "metadata": {},
   "outputs": [],
   "source": [
    "dataprocessor = dp()\n"
   ]
  },
  {
   "cell_type": "code",
   "execution_count": 24,
   "metadata": {},
   "outputs": [],
   "source": [
    "dataprocessor.train_test_split()"
   ]
  },
  {
   "cell_type": "code",
   "execution_count": 25,
   "metadata": {},
   "outputs": [
    {
     "data": {
      "text/html": [
       "<div>\n",
       "<style scoped>\n",
       "    .dataframe tbody tr th:only-of-type {\n",
       "        vertical-align: middle;\n",
       "    }\n",
       "\n",
       "    .dataframe tbody tr th {\n",
       "        vertical-align: top;\n",
       "    }\n",
       "\n",
       "    .dataframe thead th {\n",
       "        text-align: right;\n",
       "    }\n",
       "</style>\n",
       "<table border=\"1\" class=\"dataframe\">\n",
       "  <thead>\n",
       "    <tr style=\"text-align: right;\">\n",
       "      <th></th>\n",
       "      <th>id</th>\n",
       "      <th>response</th>\n",
       "      <th>context</th>\n",
       "      <th>concat</th>\n",
       "    </tr>\n",
       "  </thead>\n",
       "  <tbody>\n",
       "    <tr>\n",
       "      <th>0</th>\n",
       "      <td>twitter_1</td>\n",
       "      <td>@USER @USER @USER My 3 year old , that just fi...</td>\n",
       "      <td>[Well now that ’ s problematic AF &lt;URL&gt;, @USER...</td>\n",
       "      <td>Well now that ’ s problematic AF &lt;URL&gt; @USER @...</td>\n",
       "    </tr>\n",
       "    <tr>\n",
       "      <th>1</th>\n",
       "      <td>twitter_2</td>\n",
       "      <td>@USER @USER How many verifiable lies has he to...</td>\n",
       "      <td>[Last week the Fake News said that a section o...</td>\n",
       "      <td>Last week the Fake News said that a section of...</td>\n",
       "    </tr>\n",
       "    <tr>\n",
       "      <th>2</th>\n",
       "      <td>twitter_3</td>\n",
       "      <td>@USER @USER @USER Maybe Docs just a scrub of a...</td>\n",
       "      <td>[@USER Let ’ s Aplaud Brett When he deserves i...</td>\n",
       "      <td>@USER Let ’ s Aplaud Brett When he deserves it...</td>\n",
       "    </tr>\n",
       "    <tr>\n",
       "      <th>3</th>\n",
       "      <td>twitter_4</td>\n",
       "      <td>@USER @USER is just a cover up for the real ha...</td>\n",
       "      <td>[Women generally hate this president . What's ...</td>\n",
       "      <td>Women generally hate this president . What's u...</td>\n",
       "    </tr>\n",
       "    <tr>\n",
       "      <th>4</th>\n",
       "      <td>twitter_5</td>\n",
       "      <td>@USER @USER @USER The irony being that he even...</td>\n",
       "      <td>[Dear media Remoaners , you excitedly sharing ...</td>\n",
       "      <td>Dear media Remoaners , you excitedly sharing c...</td>\n",
       "    </tr>\n",
       "  </tbody>\n",
       "</table>\n",
       "</div>"
      ],
      "text/plain": [
       "          id                                           response  \\\n",
       "0  twitter_1  @USER @USER @USER My 3 year old , that just fi...   \n",
       "1  twitter_2  @USER @USER How many verifiable lies has he to...   \n",
       "2  twitter_3  @USER @USER @USER Maybe Docs just a scrub of a...   \n",
       "3  twitter_4  @USER @USER is just a cover up for the real ha...   \n",
       "4  twitter_5  @USER @USER @USER The irony being that he even...   \n",
       "\n",
       "                                             context  \\\n",
       "0  [Well now that ’ s problematic AF <URL>, @USER...   \n",
       "1  [Last week the Fake News said that a section o...   \n",
       "2  [@USER Let ’ s Aplaud Brett When he deserves i...   \n",
       "3  [Women generally hate this president . What's ...   \n",
       "4  [Dear media Remoaners , you excitedly sharing ...   \n",
       "\n",
       "                                              concat  \n",
       "0  Well now that ’ s problematic AF <URL> @USER @...  \n",
       "1  Last week the Fake News said that a section of...  \n",
       "2  @USER Let ’ s Aplaud Brett When he deserves it...  \n",
       "3  Women generally hate this president . What's u...  \n",
       "4  Dear media Remoaners , you excitedly sharing c...  "
      ]
     },
     "execution_count": 25,
     "metadata": {},
     "output_type": "execute_result"
    }
   ],
   "source": [
    "dataprocessor.df_test.head()"
   ]
  },
  {
   "cell_type": "code",
   "execution_count": 80,
   "metadata": {},
   "outputs": [
    {
     "data": {
      "text/plain": [
       "(1000, 3)"
      ]
     },
     "execution_count": 80,
     "metadata": {},
     "output_type": "execute_result"
    }
   ],
   "source": [
    "dataprocessor.df_validation.shape"
   ]
  },
  {
   "cell_type": "code",
   "execution_count": 6,
   "metadata": {},
   "outputs": [
    {
     "name": "stdout",
     "output_type": "stream",
     "text": [
      "['/Users/kai/dev/ClassificationCompetition/nbs', '/Users/kai/opt/anaconda3/envs/kai/lib/python37.zip', '/Users/kai/opt/anaconda3/envs/kai/lib/python3.7', '/Users/kai/opt/anaconda3/envs/kai/lib/python3.7/lib-dynload', '', '/Users/kai/opt/anaconda3/envs/kai/lib/python3.7/site-packages', '/Users/kai/opt/anaconda3/envs/kai/lib/python3.7/site-packages/IPython/extensions', '/Users/kai/.ipython', '../']\n"
     ]
    }
   ],
   "source": [
    "print(sys.path)"
   ]
  },
  {
   "cell_type": "code",
   "execution_count": 38,
   "metadata": {},
   "outputs": [],
   "source": [
    "X_train, X_test = train_test_split(df_train)"
   ]
  },
  {
   "cell_type": "code",
   "execution_count": 84,
   "metadata": {},
   "outputs": [
    {
     "data": {
      "text/html": [
       "<div>\n",
       "<style scoped>\n",
       "    .dataframe tbody tr th:only-of-type {\n",
       "        vertical-align: middle;\n",
       "    }\n",
       "\n",
       "    .dataframe tbody tr th {\n",
       "        vertical-align: top;\n",
       "    }\n",
       "\n",
       "    .dataframe thead th {\n",
       "        text-align: right;\n",
       "    }\n",
       "</style>\n",
       "<table border=\"1\" class=\"dataframe\">\n",
       "  <thead>\n",
       "    <tr style=\"text-align: right;\">\n",
       "      <th></th>\n",
       "      <th>label</th>\n",
       "      <th>response</th>\n",
       "      <th>context</th>\n",
       "    </tr>\n",
       "  </thead>\n",
       "  <tbody>\n",
       "    <tr>\n",
       "      <th>3823</th>\n",
       "      <td>NOT_SARCASM</td>\n",
       "      <td>@USER @USER I wonder if you have any photo fro...</td>\n",
       "      <td>[Giving plenty of advance warning - candidates...</td>\n",
       "    </tr>\n",
       "    <tr>\n",
       "      <th>1580</th>\n",
       "      <td>SARCASM</td>\n",
       "      <td>@USER @USER @USER But wait , what council or C...</td>\n",
       "      <td>[( 1 ) Yesterday I was asked by some why I cal...</td>\n",
       "    </tr>\n",
       "    <tr>\n",
       "      <th>2402</th>\n",
       "      <td>SARCASM</td>\n",
       "      <td>@USER PS : I ’ m sure Israel and the US will b...</td>\n",
       "      <td>[1 ) W / benefit of time to digest , please fi...</td>\n",
       "    </tr>\n",
       "    <tr>\n",
       "      <th>3656</th>\n",
       "      <td>NOT_SARCASM</td>\n",
       "      <td>@USER @USER My Free range is working except fo...</td>\n",
       "      <td>[Anybody else having a hard time signing in to...</td>\n",
       "    </tr>\n",
       "    <tr>\n",
       "      <th>3857</th>\n",
       "      <td>NOT_SARCASM</td>\n",
       "      <td>@USER took away his magic and made him paraleg...</td>\n",
       "      <td>[Wow IMAX must have been really neat . Looking...</td>\n",
       "    </tr>\n",
       "  </tbody>\n",
       "</table>\n",
       "</div>"
      ],
      "text/plain": [
       "            label                                           response  \\\n",
       "3823  NOT_SARCASM  @USER @USER I wonder if you have any photo fro...   \n",
       "1580      SARCASM  @USER @USER @USER But wait , what council or C...   \n",
       "2402      SARCASM  @USER PS : I ’ m sure Israel and the US will b...   \n",
       "3656  NOT_SARCASM  @USER @USER My Free range is working except fo...   \n",
       "3857  NOT_SARCASM  @USER took away his magic and made him paraleg...   \n",
       "\n",
       "                                                context  \n",
       "3823  [Giving plenty of advance warning - candidates...  \n",
       "1580  [( 1 ) Yesterday I was asked by some why I cal...  \n",
       "2402  [1 ) W / benefit of time to digest , please fi...  \n",
       "3656  [Anybody else having a hard time signing in to...  \n",
       "3857  [Wow IMAX must have been really neat . Looking...  "
      ]
     },
     "execution_count": 84,
     "metadata": {},
     "output_type": "execute_result"
    }
   ],
   "source": [
    "X_train.head()"
   ]
  },
  {
   "cell_type": "code",
   "execution_count": 54,
   "metadata": {},
   "outputs": [],
   "source": [
    "X_train.to_json('blah.json', orient='records')"
   ]
  },
  {
   "cell_type": "code",
   "execution_count": 9,
   "metadata": {},
   "outputs": [],
   "source": [
    "dataprocessor.write_data()"
   ]
  },
  {
   "cell_type": "code",
   "execution_count": 10,
   "metadata": {},
   "outputs": [
    {
     "data": {
      "text/html": [
       "<div>\n",
       "<style scoped>\n",
       "    .dataframe tbody tr th:only-of-type {\n",
       "        vertical-align: middle;\n",
       "    }\n",
       "\n",
       "    .dataframe tbody tr th {\n",
       "        vertical-align: top;\n",
       "    }\n",
       "\n",
       "    .dataframe thead th {\n",
       "        text-align: right;\n",
       "    }\n",
       "</style>\n",
       "<table border=\"1\" class=\"dataframe\">\n",
       "  <thead>\n",
       "    <tr style=\"text-align: right;\">\n",
       "      <th></th>\n",
       "      <th>label</th>\n",
       "      <th>response</th>\n",
       "      <th>context</th>\n",
       "    </tr>\n",
       "  </thead>\n",
       "  <tbody>\n",
       "    <tr>\n",
       "      <th>0</th>\n",
       "      <td>NOT_SARCASM</td>\n",
       "      <td>@USER Go and talk to Melania and see if you ca...</td>\n",
       "      <td>[Dr . Drew who apparently didn ’ t even know h...</td>\n",
       "    </tr>\n",
       "    <tr>\n",
       "      <th>1</th>\n",
       "      <td>NOT_SARCASM</td>\n",
       "      <td>All that #God has given Was not given just for...</td>\n",
       "      <td>[A heart of can do far above Anything that #mo...</td>\n",
       "    </tr>\n",
       "    <tr>\n",
       "      <th>2</th>\n",
       "      <td>SARCASM</td>\n",
       "      <td>@USER @USER Christ , you can't even use Englis...</td>\n",
       "      <td>[I now fear every attempt will be made to bloc...</td>\n",
       "    </tr>\n",
       "    <tr>\n",
       "      <th>3</th>\n",
       "      <td>NOT_SARCASM</td>\n",
       "      <td>@USER @USER @USER really please explain how in...</td>\n",
       "      <td>[On whether Obama admin paid for missiles that...</td>\n",
       "    </tr>\n",
       "    <tr>\n",
       "      <th>4</th>\n",
       "      <td>SARCASM</td>\n",
       "      <td>@USER @USER @USER exactly again the left says ...</td>\n",
       "      <td>[. @USER is nothing more then a estb . liberal...</td>\n",
       "    </tr>\n",
       "    <tr>\n",
       "      <th>...</th>\n",
       "      <td>...</td>\n",
       "      <td>...</td>\n",
       "      <td>...</td>\n",
       "    </tr>\n",
       "    <tr>\n",
       "      <th>3995</th>\n",
       "      <td>SARCASM</td>\n",
       "      <td>@USER @USER yr highness outrage over #Twittera...</td>\n",
       "      <td>[Hahhaa .. What can I say ... \" DONT WEAR ABVP...</td>\n",
       "    </tr>\n",
       "    <tr>\n",
       "      <th>3996</th>\n",
       "      <td>SARCASM</td>\n",
       "      <td>@USER @USER Of course I vote . You totally mis...</td>\n",
       "      <td>[People are protesting after one of the bigges...</td>\n",
       "    </tr>\n",
       "    <tr>\n",
       "      <th>3997</th>\n",
       "      <td>SARCASM</td>\n",
       "      <td>@USER let's not forget your support for Muslim...</td>\n",
       "      <td>[Getting overwhelmed at the thought of kids le...</td>\n",
       "    </tr>\n",
       "    <tr>\n",
       "      <th>3998</th>\n",
       "      <td>SARCASM</td>\n",
       "      <td>@USER @USER @USER Fantastic ! Thanks for shari...</td>\n",
       "      <td>[@USER LOOK ! Do they have anything like this ...</td>\n",
       "    </tr>\n",
       "    <tr>\n",
       "      <th>3999</th>\n",
       "      <td>SARCASM</td>\n",
       "      <td>@USER So \" standard procedure \" is your excuse...</td>\n",
       "      <td>[@USER I just payed 10 Euros for a new #mobibc...</td>\n",
       "    </tr>\n",
       "  </tbody>\n",
       "</table>\n",
       "<p>4000 rows × 3 columns</p>\n",
       "</div>"
      ],
      "text/plain": [
       "            label                                           response  \\\n",
       "0     NOT_SARCASM  @USER Go and talk to Melania and see if you ca...   \n",
       "1     NOT_SARCASM  All that #God has given Was not given just for...   \n",
       "2         SARCASM  @USER @USER Christ , you can't even use Englis...   \n",
       "3     NOT_SARCASM  @USER @USER @USER really please explain how in...   \n",
       "4         SARCASM  @USER @USER @USER exactly again the left says ...   \n",
       "...           ...                                                ...   \n",
       "3995      SARCASM  @USER @USER yr highness outrage over #Twittera...   \n",
       "3996      SARCASM  @USER @USER Of course I vote . You totally mis...   \n",
       "3997      SARCASM  @USER let's not forget your support for Muslim...   \n",
       "3998      SARCASM  @USER @USER @USER Fantastic ! Thanks for shari...   \n",
       "3999      SARCASM  @USER So \" standard procedure \" is your excuse...   \n",
       "\n",
       "                                                context  \n",
       "0     [Dr . Drew who apparently didn ’ t even know h...  \n",
       "1     [A heart of can do far above Anything that #mo...  \n",
       "2     [I now fear every attempt will be made to bloc...  \n",
       "3     [On whether Obama admin paid for missiles that...  \n",
       "4     [. @USER is nothing more then a estb . liberal...  \n",
       "...                                                 ...  \n",
       "3995  [Hahhaa .. What can I say ... \" DONT WEAR ABVP...  \n",
       "3996  [People are protesting after one of the bigges...  \n",
       "3997  [Getting overwhelmed at the thought of kids le...  \n",
       "3998  [@USER LOOK ! Do they have anything like this ...  \n",
       "3999  [@USER I just payed 10 Euros for a new #mobibc...  \n",
       "\n",
       "[4000 rows x 3 columns]"
      ]
     },
     "execution_count": 10,
     "metadata": {},
     "output_type": "execute_result"
    }
   ],
   "source": [
    "pd.read_json('../data/processed/train.json', lines=True)"
   ]
  },
  {
   "cell_type": "code",
   "execution_count": 12,
   "metadata": {},
   "outputs": [
    {
     "ename": "JSONDecodeError",
     "evalue": "Extra data: line 2 column 1 (char 704)",
     "output_type": "error",
     "traceback": [
      "\u001b[0;31m---------------------------------------------------------------------------\u001b[0m",
      "\u001b[0;31mJSONDecodeError\u001b[0m                           Traceback (most recent call last)",
      "\u001b[0;32m<ipython-input-12-4a7dbffe09f6>\u001b[0m in \u001b[0;36m<module>\u001b[0;34m\u001b[0m\n\u001b[1;32m      2\u001b[0m \u001b[0;32mwith\u001b[0m \u001b[0mopen\u001b[0m\u001b[0;34m(\u001b[0m\u001b[0;34m'../data/test.jsonl'\u001b[0m\u001b[0;34m)\u001b[0m \u001b[0;32mas\u001b[0m \u001b[0mfile\u001b[0m\u001b[0;34m:\u001b[0m\u001b[0;34m\u001b[0m\u001b[0;34m\u001b[0m\u001b[0m\n\u001b[1;32m      3\u001b[0m     \u001b[0mdata\u001b[0m \u001b[0;34m=\u001b[0m \u001b[0mfile\u001b[0m\u001b[0;34m.\u001b[0m\u001b[0mread\u001b[0m\u001b[0;34m(\u001b[0m\u001b[0;34m)\u001b[0m\u001b[0;34m\u001b[0m\u001b[0;34m\u001b[0m\u001b[0m\n\u001b[0;32m----> 4\u001b[0;31m \u001b[0mparsed\u001b[0m \u001b[0;34m=\u001b[0m \u001b[0mjson\u001b[0m\u001b[0;34m.\u001b[0m\u001b[0mloads\u001b[0m\u001b[0;34m(\u001b[0m\u001b[0mdata\u001b[0m\u001b[0;34m)\u001b[0m\u001b[0;34m\u001b[0m\u001b[0;34m\u001b[0m\u001b[0m\n\u001b[0m",
      "\u001b[0;32m~/opt/anaconda3/envs/kai/lib/python3.7/json/__init__.py\u001b[0m in \u001b[0;36mloads\u001b[0;34m(s, encoding, cls, object_hook, parse_float, parse_int, parse_constant, object_pairs_hook, **kw)\u001b[0m\n\u001b[1;32m    346\u001b[0m             \u001b[0mparse_int\u001b[0m \u001b[0;32mis\u001b[0m \u001b[0;32mNone\u001b[0m \u001b[0;32mand\u001b[0m \u001b[0mparse_float\u001b[0m \u001b[0;32mis\u001b[0m \u001b[0;32mNone\u001b[0m \u001b[0;32mand\u001b[0m\u001b[0;34m\u001b[0m\u001b[0;34m\u001b[0m\u001b[0m\n\u001b[1;32m    347\u001b[0m             parse_constant is None and object_pairs_hook is None and not kw):\n\u001b[0;32m--> 348\u001b[0;31m         \u001b[0;32mreturn\u001b[0m \u001b[0m_default_decoder\u001b[0m\u001b[0;34m.\u001b[0m\u001b[0mdecode\u001b[0m\u001b[0;34m(\u001b[0m\u001b[0ms\u001b[0m\u001b[0;34m)\u001b[0m\u001b[0;34m\u001b[0m\u001b[0;34m\u001b[0m\u001b[0m\n\u001b[0m\u001b[1;32m    349\u001b[0m     \u001b[0;32mif\u001b[0m \u001b[0mcls\u001b[0m \u001b[0;32mis\u001b[0m \u001b[0;32mNone\u001b[0m\u001b[0;34m:\u001b[0m\u001b[0;34m\u001b[0m\u001b[0;34m\u001b[0m\u001b[0m\n\u001b[1;32m    350\u001b[0m         \u001b[0mcls\u001b[0m \u001b[0;34m=\u001b[0m \u001b[0mJSONDecoder\u001b[0m\u001b[0;34m\u001b[0m\u001b[0;34m\u001b[0m\u001b[0m\n",
      "\u001b[0;32m~/opt/anaconda3/envs/kai/lib/python3.7/json/decoder.py\u001b[0m in \u001b[0;36mdecode\u001b[0;34m(self, s, _w)\u001b[0m\n\u001b[1;32m    338\u001b[0m         \u001b[0mend\u001b[0m \u001b[0;34m=\u001b[0m \u001b[0m_w\u001b[0m\u001b[0;34m(\u001b[0m\u001b[0ms\u001b[0m\u001b[0;34m,\u001b[0m \u001b[0mend\u001b[0m\u001b[0;34m)\u001b[0m\u001b[0;34m.\u001b[0m\u001b[0mend\u001b[0m\u001b[0;34m(\u001b[0m\u001b[0;34m)\u001b[0m\u001b[0;34m\u001b[0m\u001b[0;34m\u001b[0m\u001b[0m\n\u001b[1;32m    339\u001b[0m         \u001b[0;32mif\u001b[0m \u001b[0mend\u001b[0m \u001b[0;34m!=\u001b[0m \u001b[0mlen\u001b[0m\u001b[0;34m(\u001b[0m\u001b[0ms\u001b[0m\u001b[0;34m)\u001b[0m\u001b[0;34m:\u001b[0m\u001b[0;34m\u001b[0m\u001b[0;34m\u001b[0m\u001b[0m\n\u001b[0;32m--> 340\u001b[0;31m             \u001b[0;32mraise\u001b[0m \u001b[0mJSONDecodeError\u001b[0m\u001b[0;34m(\u001b[0m\u001b[0;34m\"Extra data\"\u001b[0m\u001b[0;34m,\u001b[0m \u001b[0ms\u001b[0m\u001b[0;34m,\u001b[0m \u001b[0mend\u001b[0m\u001b[0;34m)\u001b[0m\u001b[0;34m\u001b[0m\u001b[0;34m\u001b[0m\u001b[0m\n\u001b[0m\u001b[1;32m    341\u001b[0m         \u001b[0;32mreturn\u001b[0m \u001b[0mobj\u001b[0m\u001b[0;34m\u001b[0m\u001b[0;34m\u001b[0m\u001b[0m\n\u001b[1;32m    342\u001b[0m \u001b[0;34m\u001b[0m\u001b[0m\n",
      "\u001b[0;31mJSONDecodeError\u001b[0m: Extra data: line 2 column 1 (char 704)"
     ]
    }
   ],
   "source": [
    "import json\n",
    "with open('../data/test.jsonl') as file:\n",
    "    data = file.read()\n",
    "parsed = json.loads(data)"
   ]
  },
  {
   "cell_type": "code",
   "execution_count": 11,
   "metadata": {},
   "outputs": [
    {
     "data": {
      "text/html": [
       "<div>\n",
       "<style scoped>\n",
       "    .dataframe tbody tr th:only-of-type {\n",
       "        vertical-align: middle;\n",
       "    }\n",
       "\n",
       "    .dataframe tbody tr th {\n",
       "        vertical-align: top;\n",
       "    }\n",
       "\n",
       "    .dataframe thead th {\n",
       "        text-align: right;\n",
       "    }\n",
       "</style>\n",
       "<table border=\"1\" class=\"dataframe\">\n",
       "  <thead>\n",
       "    <tr style=\"text-align: right;\">\n",
       "      <th></th>\n",
       "      <th>id</th>\n",
       "      <th>response</th>\n",
       "      <th>context</th>\n",
       "    </tr>\n",
       "  </thead>\n",
       "  <tbody>\n",
       "    <tr>\n",
       "      <th>0</th>\n",
       "      <td>twitter_1</td>\n",
       "      <td>@USER @USER @USER My 3 year old , that just fi...</td>\n",
       "      <td>[Well now that ’ s problematic AF &lt;URL&gt;, @USER...</td>\n",
       "    </tr>\n",
       "    <tr>\n",
       "      <th>1</th>\n",
       "      <td>twitter_2</td>\n",
       "      <td>@USER @USER How many verifiable lies has he to...</td>\n",
       "      <td>[Last week the Fake News said that a section o...</td>\n",
       "    </tr>\n",
       "    <tr>\n",
       "      <th>2</th>\n",
       "      <td>twitter_3</td>\n",
       "      <td>@USER @USER @USER Maybe Docs just a scrub of a...</td>\n",
       "      <td>[@USER Let ’ s Aplaud Brett When he deserves i...</td>\n",
       "    </tr>\n",
       "    <tr>\n",
       "      <th>3</th>\n",
       "      <td>twitter_4</td>\n",
       "      <td>@USER @USER is just a cover up for the real ha...</td>\n",
       "      <td>[Women generally hate this president . What's ...</td>\n",
       "    </tr>\n",
       "    <tr>\n",
       "      <th>4</th>\n",
       "      <td>twitter_5</td>\n",
       "      <td>@USER @USER @USER The irony being that he even...</td>\n",
       "      <td>[Dear media Remoaners , you excitedly sharing ...</td>\n",
       "    </tr>\n",
       "  </tbody>\n",
       "</table>\n",
       "</div>"
      ],
      "text/plain": [
       "          id                                           response  \\\n",
       "0  twitter_1  @USER @USER @USER My 3 year old , that just fi...   \n",
       "1  twitter_2  @USER @USER How many verifiable lies has he to...   \n",
       "2  twitter_3  @USER @USER @USER Maybe Docs just a scrub of a...   \n",
       "3  twitter_4  @USER @USER is just a cover up for the real ha...   \n",
       "4  twitter_5  @USER @USER @USER The irony being that he even...   \n",
       "\n",
       "                                             context  \n",
       "0  [Well now that ’ s problematic AF <URL>, @USER...  \n",
       "1  [Last week the Fake News said that a section o...  \n",
       "2  [@USER Let ’ s Aplaud Brett When he deserves i...  \n",
       "3  [Women generally hate this president . What's ...  \n",
       "4  [Dear media Remoaners , you excitedly sharing ...  "
      ]
     },
     "execution_count": 11,
     "metadata": {},
     "output_type": "execute_result"
    }
   ],
   "source": [
    "dataprocessor.df_test.head()"
   ]
  },
  {
   "cell_type": "code",
   "execution_count": 20,
   "metadata": {},
   "outputs": [
    {
     "data": {
      "text/plain": [
       "0       @USER @USER @USER My 3 year old , that just fi...\n",
       "1       @USER @USER How many verifiable lies has he to...\n",
       "2       @USER @USER @USER Maybe Docs just a scrub of a...\n",
       "3       @USER @USER is just a cover up for the real ha...\n",
       "4       @USER @USER @USER The irony being that he even...\n",
       "                              ...                        \n",
       "1795    @USER @USER @USER is definitely the best out t...\n",
       "1796    @USER @USER Ye let her out run wild and infect...\n",
       "1797    @USER @USER @USER Thanks for that , I would ha...\n",
       "1798    @USER @USER @USER Yes also #found this on #new...\n",
       "1799    @USER @USER @USER you still need to send the l...\n",
       "Length: 1800, dtype: object"
      ]
     },
     "execution_count": 20,
     "metadata": {},
     "output_type": "execute_result"
    }
   ],
   "source": [
    "#dataprocessor.df_test['response'] + dataprocessor.df_test['context']\n",
    "dataprocessor.df_test['response'] + ' ' + dataprocessor.df_test['context'].str.join(\" \")"
   ]
  },
  {
   "cell_type": "code",
   "execution_count": null,
   "metadata": {},
   "outputs": [],
   "source": []
  }
 ],
 "metadata": {
  "kernelspec": {
   "display_name": "Python [conda env:kai] *",
   "language": "python",
   "name": "conda-env-kai-py"
  },
  "language_info": {
   "codemirror_mode": {
    "name": "ipython",
    "version": 3
   },
   "file_extension": ".py",
   "mimetype": "text/x-python",
   "name": "python",
   "nbconvert_exporter": "python",
   "pygments_lexer": "ipython3",
   "version": "3.7.9"
  }
 },
 "nbformat": 4,
 "nbformat_minor": 4
}
